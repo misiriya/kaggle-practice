{
 "cells": [
  {
   "cell_type": "markdown",
   "id": "35a74133",
   "metadata": {
    "papermill": {
     "duration": 0.012661,
     "end_time": "2023-03-27T04:12:41.705698",
     "exception": false,
     "start_time": "2023-03-27T04:12:41.693037",
     "status": "completed"
    },
    "tags": []
   },
   "source": [
    "**This notebook is an exercise in the [Intermediate Machine Learning](https://www.kaggle.com/learn/intermediate-machine-learning) course.  You can reference the tutorial at [this link](https://www.kaggle.com/alexisbcook/missing-values).**\n",
    "\n",
    "---\n"
   ]
  },
  {
   "cell_type": "markdown",
   "id": "c1e63090",
   "metadata": {
    "papermill": {
     "duration": 0.010494,
     "end_time": "2023-03-27T04:12:41.727336",
     "exception": false,
     "start_time": "2023-03-27T04:12:41.716842",
     "status": "completed"
    },
    "tags": []
   },
   "source": [
    "Now it's your turn to test your new knowledge of **missing values** handling. You'll probably find it makes a big difference.\n",
    "\n",
    "# Setup\n",
    "\n",
    "The questions will give you feedback on your work. Run the following cell to set up the feedback system."
   ]
  },
  {
   "cell_type": "code",
   "execution_count": 1,
   "id": "464292be",
   "metadata": {
    "execution": {
     "iopub.execute_input": "2023-03-27T04:12:41.751069Z",
     "iopub.status.busy": "2023-03-27T04:12:41.750671Z",
     "iopub.status.idle": "2023-03-27T04:12:41.806869Z",
     "shell.execute_reply": "2023-03-27T04:12:41.805676Z"
    },
    "papermill": {
     "duration": 0.072197,
     "end_time": "2023-03-27T04:12:41.810289",
     "exception": false,
     "start_time": "2023-03-27T04:12:41.738092",
     "status": "completed"
    },
    "tags": []
   },
   "outputs": [
    {
     "name": "stdout",
     "output_type": "stream",
     "text": [
      "Setup Complete\n"
     ]
    }
   ],
   "source": [
    "# Set up code checking\n",
    "import os\n",
    "if not os.path.exists(\"../input/train.csv\"):\n",
    "    os.symlink(\"../input/home-data-for-ml-course/train.csv\", \"../input/train.csv\")  \n",
    "    os.symlink(\"../input/home-data-for-ml-course/test.csv\", \"../input/test.csv\") \n",
    "from learntools.core import binder\n",
    "binder.bind(globals())\n",
    "from learntools.ml_intermediate.ex2 import *\n",
    "print(\"Setup Complete\")"
   ]
  },
  {
   "cell_type": "markdown",
   "id": "4ba51994",
   "metadata": {
    "papermill": {
     "duration": 0.010677,
     "end_time": "2023-03-27T04:12:41.834002",
     "exception": false,
     "start_time": "2023-03-27T04:12:41.823325",
     "status": "completed"
    },
    "tags": []
   },
   "source": [
    "In this exercise, you will work with data from the [Housing Prices Competition for Kaggle Learn Users](https://www.kaggle.com/c/home-data-for-ml-course). \n",
    "\n",
    "![Ames Housing dataset image](https://i.imgur.com/lTJVG4e.png)\n",
    "\n",
    "Run the next code cell without changes to load the training and validation sets in `X_train`, `X_valid`, `y_train`, and `y_valid`.  The test set is loaded in `X_test`."
   ]
  },
  {
   "cell_type": "code",
   "execution_count": 2,
   "id": "0592cac6",
   "metadata": {
    "execution": {
     "iopub.execute_input": "2023-03-27T04:12:41.858360Z",
     "iopub.status.busy": "2023-03-27T04:12:41.857157Z",
     "iopub.status.idle": "2023-03-27T04:12:43.052297Z",
     "shell.execute_reply": "2023-03-27T04:12:43.051216Z"
    },
    "papermill": {
     "duration": 1.210175,
     "end_time": "2023-03-27T04:12:43.055055",
     "exception": false,
     "start_time": "2023-03-27T04:12:41.844880",
     "status": "completed"
    },
    "tags": []
   },
   "outputs": [],
   "source": [
    "import pandas as pd\n",
    "from sklearn.model_selection import train_test_split\n",
    "\n",
    "# Read the data\n",
    "X_full = pd.read_csv('../input/train.csv', index_col='Id')\n",
    "X_test_full = pd.read_csv('../input/test.csv', index_col='Id')\n",
    "\n",
    "# Remove rows with missing target, separate target from predictors\n",
    "X_full.dropna(axis=0, subset=['SalePrice'], inplace=True)\n",
    "y = X_full.SalePrice\n",
    "X_full.drop(['SalePrice'], axis=1, inplace=True)\n",
    "\n",
    "# To keep things simple, we'll use only numerical predictors\n",
    "X = X_full.select_dtypes(exclude=['object'])\n",
    "X_test = X_test_full.select_dtypes(exclude=['object'])\n",
    "\n",
    "# Break off validation set from training data\n",
    "X_train, X_valid, y_train, y_valid = train_test_split(X, y, train_size=0.8, test_size=0.2,\n",
    "                                                      random_state=0)"
   ]
  },
  {
   "cell_type": "markdown",
   "id": "6da7f011",
   "metadata": {
    "papermill": {
     "duration": 0.010773,
     "end_time": "2023-03-27T04:12:43.076933",
     "exception": false,
     "start_time": "2023-03-27T04:12:43.066160",
     "status": "completed"
    },
    "tags": []
   },
   "source": [
    "Use the next code cell to print the first five rows of the data."
   ]
  },
  {
   "cell_type": "code",
   "execution_count": 3,
   "id": "2ef16e94",
   "metadata": {
    "execution": {
     "iopub.execute_input": "2023-03-27T04:12:43.100970Z",
     "iopub.status.busy": "2023-03-27T04:12:43.100534Z",
     "iopub.status.idle": "2023-03-27T04:12:43.138016Z",
     "shell.execute_reply": "2023-03-27T04:12:43.136706Z"
    },
    "papermill": {
     "duration": 0.052742,
     "end_time": "2023-03-27T04:12:43.140667",
     "exception": false,
     "start_time": "2023-03-27T04:12:43.087925",
     "status": "completed"
    },
    "tags": []
   },
   "outputs": [
    {
     "data": {
      "text/html": [
       "<div>\n",
       "<style scoped>\n",
       "    .dataframe tbody tr th:only-of-type {\n",
       "        vertical-align: middle;\n",
       "    }\n",
       "\n",
       "    .dataframe tbody tr th {\n",
       "        vertical-align: top;\n",
       "    }\n",
       "\n",
       "    .dataframe thead th {\n",
       "        text-align: right;\n",
       "    }\n",
       "</style>\n",
       "<table border=\"1\" class=\"dataframe\">\n",
       "  <thead>\n",
       "    <tr style=\"text-align: right;\">\n",
       "      <th></th>\n",
       "      <th>MSSubClass</th>\n",
       "      <th>LotFrontage</th>\n",
       "      <th>LotArea</th>\n",
       "      <th>OverallQual</th>\n",
       "      <th>OverallCond</th>\n",
       "      <th>YearBuilt</th>\n",
       "      <th>YearRemodAdd</th>\n",
       "      <th>MasVnrArea</th>\n",
       "      <th>BsmtFinSF1</th>\n",
       "      <th>BsmtFinSF2</th>\n",
       "      <th>...</th>\n",
       "      <th>GarageArea</th>\n",
       "      <th>WoodDeckSF</th>\n",
       "      <th>OpenPorchSF</th>\n",
       "      <th>EnclosedPorch</th>\n",
       "      <th>3SsnPorch</th>\n",
       "      <th>ScreenPorch</th>\n",
       "      <th>PoolArea</th>\n",
       "      <th>MiscVal</th>\n",
       "      <th>MoSold</th>\n",
       "      <th>YrSold</th>\n",
       "    </tr>\n",
       "    <tr>\n",
       "      <th>Id</th>\n",
       "      <th></th>\n",
       "      <th></th>\n",
       "      <th></th>\n",
       "      <th></th>\n",
       "      <th></th>\n",
       "      <th></th>\n",
       "      <th></th>\n",
       "      <th></th>\n",
       "      <th></th>\n",
       "      <th></th>\n",
       "      <th></th>\n",
       "      <th></th>\n",
       "      <th></th>\n",
       "      <th></th>\n",
       "      <th></th>\n",
       "      <th></th>\n",
       "      <th></th>\n",
       "      <th></th>\n",
       "      <th></th>\n",
       "      <th></th>\n",
       "      <th></th>\n",
       "    </tr>\n",
       "  </thead>\n",
       "  <tbody>\n",
       "    <tr>\n",
       "      <th>619</th>\n",
       "      <td>20</td>\n",
       "      <td>90.0</td>\n",
       "      <td>11694</td>\n",
       "      <td>9</td>\n",
       "      <td>5</td>\n",
       "      <td>2007</td>\n",
       "      <td>2007</td>\n",
       "      <td>452.0</td>\n",
       "      <td>48</td>\n",
       "      <td>0</td>\n",
       "      <td>...</td>\n",
       "      <td>774</td>\n",
       "      <td>0</td>\n",
       "      <td>108</td>\n",
       "      <td>0</td>\n",
       "      <td>0</td>\n",
       "      <td>260</td>\n",
       "      <td>0</td>\n",
       "      <td>0</td>\n",
       "      <td>7</td>\n",
       "      <td>2007</td>\n",
       "    </tr>\n",
       "    <tr>\n",
       "      <th>871</th>\n",
       "      <td>20</td>\n",
       "      <td>60.0</td>\n",
       "      <td>6600</td>\n",
       "      <td>5</td>\n",
       "      <td>5</td>\n",
       "      <td>1962</td>\n",
       "      <td>1962</td>\n",
       "      <td>0.0</td>\n",
       "      <td>0</td>\n",
       "      <td>0</td>\n",
       "      <td>...</td>\n",
       "      <td>308</td>\n",
       "      <td>0</td>\n",
       "      <td>0</td>\n",
       "      <td>0</td>\n",
       "      <td>0</td>\n",
       "      <td>0</td>\n",
       "      <td>0</td>\n",
       "      <td>0</td>\n",
       "      <td>8</td>\n",
       "      <td>2009</td>\n",
       "    </tr>\n",
       "    <tr>\n",
       "      <th>93</th>\n",
       "      <td>30</td>\n",
       "      <td>80.0</td>\n",
       "      <td>13360</td>\n",
       "      <td>5</td>\n",
       "      <td>7</td>\n",
       "      <td>1921</td>\n",
       "      <td>2006</td>\n",
       "      <td>0.0</td>\n",
       "      <td>713</td>\n",
       "      <td>0</td>\n",
       "      <td>...</td>\n",
       "      <td>432</td>\n",
       "      <td>0</td>\n",
       "      <td>0</td>\n",
       "      <td>44</td>\n",
       "      <td>0</td>\n",
       "      <td>0</td>\n",
       "      <td>0</td>\n",
       "      <td>0</td>\n",
       "      <td>8</td>\n",
       "      <td>2009</td>\n",
       "    </tr>\n",
       "    <tr>\n",
       "      <th>818</th>\n",
       "      <td>20</td>\n",
       "      <td>NaN</td>\n",
       "      <td>13265</td>\n",
       "      <td>8</td>\n",
       "      <td>5</td>\n",
       "      <td>2002</td>\n",
       "      <td>2002</td>\n",
       "      <td>148.0</td>\n",
       "      <td>1218</td>\n",
       "      <td>0</td>\n",
       "      <td>...</td>\n",
       "      <td>857</td>\n",
       "      <td>150</td>\n",
       "      <td>59</td>\n",
       "      <td>0</td>\n",
       "      <td>0</td>\n",
       "      <td>0</td>\n",
       "      <td>0</td>\n",
       "      <td>0</td>\n",
       "      <td>7</td>\n",
       "      <td>2008</td>\n",
       "    </tr>\n",
       "    <tr>\n",
       "      <th>303</th>\n",
       "      <td>20</td>\n",
       "      <td>118.0</td>\n",
       "      <td>13704</td>\n",
       "      <td>7</td>\n",
       "      <td>5</td>\n",
       "      <td>2001</td>\n",
       "      <td>2002</td>\n",
       "      <td>150.0</td>\n",
       "      <td>0</td>\n",
       "      <td>0</td>\n",
       "      <td>...</td>\n",
       "      <td>843</td>\n",
       "      <td>468</td>\n",
       "      <td>81</td>\n",
       "      <td>0</td>\n",
       "      <td>0</td>\n",
       "      <td>0</td>\n",
       "      <td>0</td>\n",
       "      <td>0</td>\n",
       "      <td>1</td>\n",
       "      <td>2006</td>\n",
       "    </tr>\n",
       "  </tbody>\n",
       "</table>\n",
       "<p>5 rows × 36 columns</p>\n",
       "</div>"
      ],
      "text/plain": [
       "     MSSubClass  LotFrontage  LotArea  OverallQual  OverallCond  YearBuilt  \\\n",
       "Id                                                                           \n",
       "619          20         90.0    11694            9            5       2007   \n",
       "871          20         60.0     6600            5            5       1962   \n",
       "93           30         80.0    13360            5            7       1921   \n",
       "818          20          NaN    13265            8            5       2002   \n",
       "303          20        118.0    13704            7            5       2001   \n",
       "\n",
       "     YearRemodAdd  MasVnrArea  BsmtFinSF1  BsmtFinSF2  ...  GarageArea  \\\n",
       "Id                                                     ...               \n",
       "619          2007       452.0          48           0  ...         774   \n",
       "871          1962         0.0           0           0  ...         308   \n",
       "93           2006         0.0         713           0  ...         432   \n",
       "818          2002       148.0        1218           0  ...         857   \n",
       "303          2002       150.0           0           0  ...         843   \n",
       "\n",
       "     WoodDeckSF  OpenPorchSF  EnclosedPorch  3SsnPorch  ScreenPorch  PoolArea  \\\n",
       "Id                                                                              \n",
       "619           0          108              0          0          260         0   \n",
       "871           0            0              0          0            0         0   \n",
       "93            0            0             44          0            0         0   \n",
       "818         150           59              0          0            0         0   \n",
       "303         468           81              0          0            0         0   \n",
       "\n",
       "     MiscVal  MoSold  YrSold  \n",
       "Id                            \n",
       "619        0       7    2007  \n",
       "871        0       8    2009  \n",
       "93         0       8    2009  \n",
       "818        0       7    2008  \n",
       "303        0       1    2006  \n",
       "\n",
       "[5 rows x 36 columns]"
      ]
     },
     "execution_count": 3,
     "metadata": {},
     "output_type": "execute_result"
    }
   ],
   "source": [
    "X_train.head()"
   ]
  },
  {
   "cell_type": "code",
   "execution_count": 4,
   "id": "ede6bc4c",
   "metadata": {
    "execution": {
     "iopub.execute_input": "2023-03-27T04:12:43.165860Z",
     "iopub.status.busy": "2023-03-27T04:12:43.164873Z",
     "iopub.status.idle": "2023-03-27T04:12:43.276956Z",
     "shell.execute_reply": "2023-03-27T04:12:43.275726Z"
    },
    "papermill": {
     "duration": 0.127379,
     "end_time": "2023-03-27T04:12:43.279499",
     "exception": false,
     "start_time": "2023-03-27T04:12:43.152120",
     "status": "completed"
    },
    "tags": []
   },
   "outputs": [
    {
     "data": {
      "text/html": [
       "<div>\n",
       "<style scoped>\n",
       "    .dataframe tbody tr th:only-of-type {\n",
       "        vertical-align: middle;\n",
       "    }\n",
       "\n",
       "    .dataframe tbody tr th {\n",
       "        vertical-align: top;\n",
       "    }\n",
       "\n",
       "    .dataframe thead th {\n",
       "        text-align: right;\n",
       "    }\n",
       "</style>\n",
       "<table border=\"1\" class=\"dataframe\">\n",
       "  <thead>\n",
       "    <tr style=\"text-align: right;\">\n",
       "      <th></th>\n",
       "      <th>MSSubClass</th>\n",
       "      <th>LotFrontage</th>\n",
       "      <th>LotArea</th>\n",
       "      <th>OverallQual</th>\n",
       "      <th>OverallCond</th>\n",
       "      <th>YearBuilt</th>\n",
       "      <th>YearRemodAdd</th>\n",
       "      <th>MasVnrArea</th>\n",
       "      <th>BsmtFinSF1</th>\n",
       "      <th>BsmtFinSF2</th>\n",
       "      <th>...</th>\n",
       "      <th>GarageArea</th>\n",
       "      <th>WoodDeckSF</th>\n",
       "      <th>OpenPorchSF</th>\n",
       "      <th>EnclosedPorch</th>\n",
       "      <th>3SsnPorch</th>\n",
       "      <th>ScreenPorch</th>\n",
       "      <th>PoolArea</th>\n",
       "      <th>MiscVal</th>\n",
       "      <th>MoSold</th>\n",
       "      <th>YrSold</th>\n",
       "    </tr>\n",
       "  </thead>\n",
       "  <tbody>\n",
       "    <tr>\n",
       "      <th>count</th>\n",
       "      <td>1168.000000</td>\n",
       "      <td>956.000000</td>\n",
       "      <td>1168.000000</td>\n",
       "      <td>1168.000000</td>\n",
       "      <td>1168.000000</td>\n",
       "      <td>1168.000000</td>\n",
       "      <td>1168.000000</td>\n",
       "      <td>1162.000000</td>\n",
       "      <td>1168.000000</td>\n",
       "      <td>1168.000000</td>\n",
       "      <td>...</td>\n",
       "      <td>1168.000000</td>\n",
       "      <td>1168.000000</td>\n",
       "      <td>1168.000000</td>\n",
       "      <td>1168.000000</td>\n",
       "      <td>1168.000000</td>\n",
       "      <td>1168.000000</td>\n",
       "      <td>1168.000000</td>\n",
       "      <td>1168.000000</td>\n",
       "      <td>1168.000000</td>\n",
       "      <td>1168.000000</td>\n",
       "    </tr>\n",
       "    <tr>\n",
       "      <th>mean</th>\n",
       "      <td>56.605308</td>\n",
       "      <td>69.614017</td>\n",
       "      <td>10589.672945</td>\n",
       "      <td>6.086473</td>\n",
       "      <td>5.572774</td>\n",
       "      <td>1970.890411</td>\n",
       "      <td>1984.692637</td>\n",
       "      <td>103.481067</td>\n",
       "      <td>439.890411</td>\n",
       "      <td>45.571918</td>\n",
       "      <td>...</td>\n",
       "      <td>473.632705</td>\n",
       "      <td>94.498288</td>\n",
       "      <td>48.044521</td>\n",
       "      <td>23.022260</td>\n",
       "      <td>3.218322</td>\n",
       "      <td>14.528253</td>\n",
       "      <td>2.118151</td>\n",
       "      <td>50.936644</td>\n",
       "      <td>6.301370</td>\n",
       "      <td>2007.819349</td>\n",
       "    </tr>\n",
       "    <tr>\n",
       "      <th>std</th>\n",
       "      <td>42.172322</td>\n",
       "      <td>22.946069</td>\n",
       "      <td>10704.180793</td>\n",
       "      <td>1.367472</td>\n",
       "      <td>1.116908</td>\n",
       "      <td>30.407486</td>\n",
       "      <td>20.684612</td>\n",
       "      <td>182.676225</td>\n",
       "      <td>435.106803</td>\n",
       "      <td>156.229962</td>\n",
       "      <td>...</td>\n",
       "      <td>209.442320</td>\n",
       "      <td>127.312017</td>\n",
       "      <td>68.619199</td>\n",
       "      <td>63.153093</td>\n",
       "      <td>27.916593</td>\n",
       "      <td>54.009608</td>\n",
       "      <td>36.482294</td>\n",
       "      <td>550.380636</td>\n",
       "      <td>2.725977</td>\n",
       "      <td>1.335971</td>\n",
       "    </tr>\n",
       "    <tr>\n",
       "      <th>min</th>\n",
       "      <td>20.000000</td>\n",
       "      <td>21.000000</td>\n",
       "      <td>1300.000000</td>\n",
       "      <td>1.000000</td>\n",
       "      <td>1.000000</td>\n",
       "      <td>1872.000000</td>\n",
       "      <td>1950.000000</td>\n",
       "      <td>0.000000</td>\n",
       "      <td>0.000000</td>\n",
       "      <td>0.000000</td>\n",
       "      <td>...</td>\n",
       "      <td>0.000000</td>\n",
       "      <td>0.000000</td>\n",
       "      <td>0.000000</td>\n",
       "      <td>0.000000</td>\n",
       "      <td>0.000000</td>\n",
       "      <td>0.000000</td>\n",
       "      <td>0.000000</td>\n",
       "      <td>0.000000</td>\n",
       "      <td>1.000000</td>\n",
       "      <td>2006.000000</td>\n",
       "    </tr>\n",
       "    <tr>\n",
       "      <th>25%</th>\n",
       "      <td>20.000000</td>\n",
       "      <td>59.000000</td>\n",
       "      <td>7589.500000</td>\n",
       "      <td>5.000000</td>\n",
       "      <td>5.000000</td>\n",
       "      <td>1953.750000</td>\n",
       "      <td>1966.000000</td>\n",
       "      <td>0.000000</td>\n",
       "      <td>0.000000</td>\n",
       "      <td>0.000000</td>\n",
       "      <td>...</td>\n",
       "      <td>336.000000</td>\n",
       "      <td>0.000000</td>\n",
       "      <td>0.000000</td>\n",
       "      <td>0.000000</td>\n",
       "      <td>0.000000</td>\n",
       "      <td>0.000000</td>\n",
       "      <td>0.000000</td>\n",
       "      <td>0.000000</td>\n",
       "      <td>5.000000</td>\n",
       "      <td>2007.000000</td>\n",
       "    </tr>\n",
       "    <tr>\n",
       "      <th>50%</th>\n",
       "      <td>50.000000</td>\n",
       "      <td>69.000000</td>\n",
       "      <td>9512.500000</td>\n",
       "      <td>6.000000</td>\n",
       "      <td>5.000000</td>\n",
       "      <td>1972.000000</td>\n",
       "      <td>1993.000000</td>\n",
       "      <td>0.000000</td>\n",
       "      <td>379.500000</td>\n",
       "      <td>0.000000</td>\n",
       "      <td>...</td>\n",
       "      <td>477.500000</td>\n",
       "      <td>0.000000</td>\n",
       "      <td>26.000000</td>\n",
       "      <td>0.000000</td>\n",
       "      <td>0.000000</td>\n",
       "      <td>0.000000</td>\n",
       "      <td>0.000000</td>\n",
       "      <td>0.000000</td>\n",
       "      <td>6.000000</td>\n",
       "      <td>2008.000000</td>\n",
       "    </tr>\n",
       "    <tr>\n",
       "      <th>75%</th>\n",
       "      <td>70.000000</td>\n",
       "      <td>80.000000</td>\n",
       "      <td>11601.500000</td>\n",
       "      <td>7.000000</td>\n",
       "      <td>6.000000</td>\n",
       "      <td>2000.000000</td>\n",
       "      <td>2004.000000</td>\n",
       "      <td>167.750000</td>\n",
       "      <td>716.000000</td>\n",
       "      <td>0.000000</td>\n",
       "      <td>...</td>\n",
       "      <td>576.000000</td>\n",
       "      <td>168.000000</td>\n",
       "      <td>68.000000</td>\n",
       "      <td>0.000000</td>\n",
       "      <td>0.000000</td>\n",
       "      <td>0.000000</td>\n",
       "      <td>0.000000</td>\n",
       "      <td>0.000000</td>\n",
       "      <td>8.000000</td>\n",
       "      <td>2009.000000</td>\n",
       "    </tr>\n",
       "    <tr>\n",
       "      <th>max</th>\n",
       "      <td>190.000000</td>\n",
       "      <td>313.000000</td>\n",
       "      <td>215245.000000</td>\n",
       "      <td>10.000000</td>\n",
       "      <td>9.000000</td>\n",
       "      <td>2010.000000</td>\n",
       "      <td>2010.000000</td>\n",
       "      <td>1600.000000</td>\n",
       "      <td>2260.000000</td>\n",
       "      <td>1120.000000</td>\n",
       "      <td>...</td>\n",
       "      <td>1390.000000</td>\n",
       "      <td>736.000000</td>\n",
       "      <td>547.000000</td>\n",
       "      <td>552.000000</td>\n",
       "      <td>508.000000</td>\n",
       "      <td>480.000000</td>\n",
       "      <td>738.000000</td>\n",
       "      <td>15500.000000</td>\n",
       "      <td>12.000000</td>\n",
       "      <td>2010.000000</td>\n",
       "    </tr>\n",
       "  </tbody>\n",
       "</table>\n",
       "<p>8 rows × 36 columns</p>\n",
       "</div>"
      ],
      "text/plain": [
       "        MSSubClass  LotFrontage        LotArea  OverallQual  OverallCond  \\\n",
       "count  1168.000000   956.000000    1168.000000  1168.000000  1168.000000   \n",
       "mean     56.605308    69.614017   10589.672945     6.086473     5.572774   \n",
       "std      42.172322    22.946069   10704.180793     1.367472     1.116908   \n",
       "min      20.000000    21.000000    1300.000000     1.000000     1.000000   \n",
       "25%      20.000000    59.000000    7589.500000     5.000000     5.000000   \n",
       "50%      50.000000    69.000000    9512.500000     6.000000     5.000000   \n",
       "75%      70.000000    80.000000   11601.500000     7.000000     6.000000   \n",
       "max     190.000000   313.000000  215245.000000    10.000000     9.000000   \n",
       "\n",
       "         YearBuilt  YearRemodAdd   MasVnrArea   BsmtFinSF1   BsmtFinSF2  ...  \\\n",
       "count  1168.000000   1168.000000  1162.000000  1168.000000  1168.000000  ...   \n",
       "mean   1970.890411   1984.692637   103.481067   439.890411    45.571918  ...   \n",
       "std      30.407486     20.684612   182.676225   435.106803   156.229962  ...   \n",
       "min    1872.000000   1950.000000     0.000000     0.000000     0.000000  ...   \n",
       "25%    1953.750000   1966.000000     0.000000     0.000000     0.000000  ...   \n",
       "50%    1972.000000   1993.000000     0.000000   379.500000     0.000000  ...   \n",
       "75%    2000.000000   2004.000000   167.750000   716.000000     0.000000  ...   \n",
       "max    2010.000000   2010.000000  1600.000000  2260.000000  1120.000000  ...   \n",
       "\n",
       "        GarageArea   WoodDeckSF  OpenPorchSF  EnclosedPorch    3SsnPorch  \\\n",
       "count  1168.000000  1168.000000  1168.000000    1168.000000  1168.000000   \n",
       "mean    473.632705    94.498288    48.044521      23.022260     3.218322   \n",
       "std     209.442320   127.312017    68.619199      63.153093    27.916593   \n",
       "min       0.000000     0.000000     0.000000       0.000000     0.000000   \n",
       "25%     336.000000     0.000000     0.000000       0.000000     0.000000   \n",
       "50%     477.500000     0.000000    26.000000       0.000000     0.000000   \n",
       "75%     576.000000   168.000000    68.000000       0.000000     0.000000   \n",
       "max    1390.000000   736.000000   547.000000     552.000000   508.000000   \n",
       "\n",
       "       ScreenPorch     PoolArea       MiscVal       MoSold       YrSold  \n",
       "count  1168.000000  1168.000000   1168.000000  1168.000000  1168.000000  \n",
       "mean     14.528253     2.118151     50.936644     6.301370  2007.819349  \n",
       "std      54.009608    36.482294    550.380636     2.725977     1.335971  \n",
       "min       0.000000     0.000000      0.000000     1.000000  2006.000000  \n",
       "25%       0.000000     0.000000      0.000000     5.000000  2007.000000  \n",
       "50%       0.000000     0.000000      0.000000     6.000000  2008.000000  \n",
       "75%       0.000000     0.000000      0.000000     8.000000  2009.000000  \n",
       "max     480.000000   738.000000  15500.000000    12.000000  2010.000000  \n",
       "\n",
       "[8 rows x 36 columns]"
      ]
     },
     "execution_count": 4,
     "metadata": {},
     "output_type": "execute_result"
    }
   ],
   "source": [
    "X_train.describe()"
   ]
  },
  {
   "cell_type": "code",
   "execution_count": 5,
   "id": "d4a909ac",
   "metadata": {
    "execution": {
     "iopub.execute_input": "2023-03-27T04:12:43.305205Z",
     "iopub.status.busy": "2023-03-27T04:12:43.304751Z",
     "iopub.status.idle": "2023-03-27T04:12:43.310113Z",
     "shell.execute_reply": "2023-03-27T04:12:43.309014Z"
    },
    "papermill": {
     "duration": 0.021131,
     "end_time": "2023-03-27T04:12:43.312753",
     "exception": false,
     "start_time": "2023-03-27T04:12:43.291622",
     "status": "completed"
    },
    "tags": []
   },
   "outputs": [],
   "source": [
    "# X_train.info()"
   ]
  },
  {
   "cell_type": "markdown",
   "id": "ad980df8",
   "metadata": {
    "papermill": {
     "duration": 0.011457,
     "end_time": "2023-03-27T04:12:43.336203",
     "exception": false,
     "start_time": "2023-03-27T04:12:43.324746",
     "status": "completed"
    },
    "tags": []
   },
   "source": [
    "You can already see a few missing values in the first several rows.  In the next step, you'll obtain a more comprehensive understanding of the missing values in the dataset.\n",
    "\n",
    "# Step 1: Preliminary investigation\n",
    "\n",
    "Run the code cell below without changes."
   ]
  },
  {
   "cell_type": "code",
   "execution_count": 6,
   "id": "9288db2b",
   "metadata": {
    "execution": {
     "iopub.execute_input": "2023-03-27T04:12:43.361928Z",
     "iopub.status.busy": "2023-03-27T04:12:43.361253Z",
     "iopub.status.idle": "2023-03-27T04:12:43.369911Z",
     "shell.execute_reply": "2023-03-27T04:12:43.368704Z"
    },
    "papermill": {
     "duration": 0.025199,
     "end_time": "2023-03-27T04:12:43.373192",
     "exception": false,
     "start_time": "2023-03-27T04:12:43.347993",
     "status": "completed"
    },
    "tags": []
   },
   "outputs": [
    {
     "name": "stdout",
     "output_type": "stream",
     "text": [
      "(1168, 36)\n",
      "LotFrontage    212\n",
      "MasVnrArea       6\n",
      "GarageYrBlt     58\n",
      "dtype: int64\n"
     ]
    }
   ],
   "source": [
    "# Shape of training data (num_rows, num_columns)\n",
    "print(X_train.shape)\n",
    "\n",
    "# Number of missing values in each column of training data\n",
    "missing_val_count_by_column = (X_train.isnull().sum())\n",
    "print(missing_val_count_by_column[missing_val_count_by_column > 0])"
   ]
  },
  {
   "cell_type": "code",
   "execution_count": 7,
   "id": "2baa48fb",
   "metadata": {
    "execution": {
     "iopub.execute_input": "2023-03-27T04:12:43.400548Z",
     "iopub.status.busy": "2023-03-27T04:12:43.399584Z",
     "iopub.status.idle": "2023-03-27T04:12:43.409178Z",
     "shell.execute_reply": "2023-03-27T04:12:43.407962Z"
    },
    "papermill": {
     "duration": 0.025343,
     "end_time": "2023-03-27T04:12:43.411406",
     "exception": false,
     "start_time": "2023-03-27T04:12:43.386063",
     "status": "completed"
    },
    "tags": []
   },
   "outputs": [
    {
     "data": {
      "text/plain": [
       "276"
      ]
     },
     "execution_count": 7,
     "metadata": {},
     "output_type": "execute_result"
    }
   ],
   "source": [
    "# X_train.isnull().sum()\n",
    "X_train.isnull().sum().sum()"
   ]
  },
  {
   "cell_type": "code",
   "execution_count": 8,
   "id": "d0bd1296",
   "metadata": {
    "execution": {
     "iopub.execute_input": "2023-03-27T04:12:43.437806Z",
     "iopub.status.busy": "2023-03-27T04:12:43.437061Z",
     "iopub.status.idle": "2023-03-27T04:12:43.445848Z",
     "shell.execute_reply": "2023-03-27T04:12:43.444418Z"
    },
    "papermill": {
     "duration": 0.024872,
     "end_time": "2023-03-27T04:12:43.448272",
     "exception": false,
     "start_time": "2023-03-27T04:12:43.423400",
     "status": "completed"
    },
    "tags": []
   },
   "outputs": [
    {
     "name": "stdout",
     "output_type": "stream",
     "text": [
      "Total number of missing columns in data: 3\n"
     ]
    }
   ],
   "source": [
    "missing_columns = X_train.isnull().sum(axis=0)\n",
    "total_missing_columns = (missing_columns > 0).sum()\n",
    "\n",
    "print(\"Total number of missing columns in data:\", total_missing_columns)"
   ]
  },
  {
   "cell_type": "code",
   "execution_count": 9,
   "id": "0f60a15e",
   "metadata": {
    "execution": {
     "iopub.execute_input": "2023-03-27T04:12:43.475009Z",
     "iopub.status.busy": "2023-03-27T04:12:43.474566Z",
     "iopub.status.idle": "2023-03-27T04:12:43.483629Z",
     "shell.execute_reply": "2023-03-27T04:12:43.482455Z"
    },
    "papermill": {
     "duration": 0.025514,
     "end_time": "2023-03-27T04:12:43.486102",
     "exception": false,
     "start_time": "2023-03-27T04:12:43.460588",
     "status": "completed"
    },
    "tags": []
   },
   "outputs": [
    {
     "data": {
      "text/plain": [
       "3"
      ]
     },
     "execution_count": 9,
     "metadata": {},
     "output_type": "execute_result"
    }
   ],
   "source": [
    "# # X_train.isnull().sum(axis=0).sum()\n",
    "# X_train.isnull().sum(axis=0).sum(axis=0)\n",
    "((X_train.isnull().sum(axis=0))>0).sum()"
   ]
  },
  {
   "cell_type": "code",
   "execution_count": 10,
   "id": "88d8a37e",
   "metadata": {
    "execution": {
     "iopub.execute_input": "2023-03-27T04:12:43.512512Z",
     "iopub.status.busy": "2023-03-27T04:12:43.512107Z",
     "iopub.status.idle": "2023-03-27T04:12:43.822288Z",
     "shell.execute_reply": "2023-03-27T04:12:43.821056Z"
    },
    "papermill": {
     "duration": 0.326632,
     "end_time": "2023-03-27T04:12:43.825244",
     "exception": false,
     "start_time": "2023-03-27T04:12:43.498612",
     "status": "completed"
    },
    "tags": []
   },
   "outputs": [],
   "source": [
    "import missingno as msno"
   ]
  },
  {
   "cell_type": "code",
   "execution_count": 11,
   "id": "80be362b",
   "metadata": {
    "execution": {
     "iopub.execute_input": "2023-03-27T04:12:43.851365Z",
     "iopub.status.busy": "2023-03-27T04:12:43.850930Z",
     "iopub.status.idle": "2023-03-27T04:12:44.952220Z",
     "shell.execute_reply": "2023-03-27T04:12:44.950977Z"
    },
    "papermill": {
     "duration": 1.119686,
     "end_time": "2023-03-27T04:12:44.957059",
     "exception": false,
     "start_time": "2023-03-27T04:12:43.837373",
     "status": "completed"
    },
    "tags": []
   },
   "outputs": [
    {
     "data": {
      "text/plain": [
       "<AxesSubplot:>"
      ]
     },
     "execution_count": 11,
     "metadata": {},
     "output_type": "execute_result"
    },
    {
     "data": {
      "image/png": "[encoded data removed]",
      "text/plain": [
       "<Figure size 2500x1000 with 2 Axes>"
      ]
     },
     "metadata": {},
     "output_type": "display_data"
    }
   ],
   "source": [
    "# msno.bar(X_train)\n",
    "# msno.heatmap(X_train)\n",
    "# msno.dendrogram(X_train)\n",
    "\n",
    "msno.matrix(X_train)"
   ]
  },
  {
   "cell_type": "markdown",
   "id": "957d2732",
   "metadata": {
    "papermill": {
     "duration": 0.014769,
     "end_time": "2023-03-27T04:12:44.986856",
     "exception": false,
     "start_time": "2023-03-27T04:12:44.972087",
     "status": "completed"
    },
    "tags": []
   },
   "source": [
    "### Part A\n",
    "\n",
    "Use the above output to answer the questions below."
   ]
  },
  {
   "cell_type": "code",
   "execution_count": 12,
   "id": "96abb014",
   "metadata": {
    "execution": {
     "iopub.execute_input": "2023-03-27T04:12:45.018986Z",
     "iopub.status.busy": "2023-03-27T04:12:45.018267Z",
     "iopub.status.idle": "2023-03-27T04:12:45.030796Z",
     "shell.execute_reply": "2023-03-27T04:12:45.029626Z"
    },
    "papermill": {
     "duration": 0.031651,
     "end_time": "2023-03-27T04:12:45.033464",
     "exception": false,
     "start_time": "2023-03-27T04:12:45.001813",
     "status": "completed"
    },
    "tags": []
   },
   "outputs": [
    {
     "data": {
      "application/javascript": [
       "parent.postMessage({\"jupyterEvent\": \"custom.exercise_interaction\", \"data\": {\"outcomeType\": 1, \"valueTowardsCompletion\": 1.0, \"interactionType\": 1, \"questionType\": 1, \"questionId\": \"1.1_InvestigateEquality\", \"learnToolsVersion\": \"0.3.4\", \"failureMessage\": \"\", \"exceptionClass\": \"\", \"trace\": \"\"}}, \"*\")"
      ],
      "text/plain": [
       "<IPython.core.display.Javascript object>"
      ]
     },
     "metadata": {},
     "output_type": "display_data"
    },
    {
     "data": {
      "text/markdown": [
       "<span style=\"color:#33cc33\">Correct</span>"
      ],
      "text/plain": [
       "Correct"
      ]
     },
     "metadata": {},
     "output_type": "display_data"
    }
   ],
   "source": [
    "# Fill in the line below: How many rows are in the training data?\n",
    "num_rows = X_train.shape[0] #1168 \n",
    "\n",
    "# Fill in the line below: How many columns in the training data\n",
    "# have missing values?\n",
    "num_cols_with_missing = 3 #missing_columns = ((X_train.isnull().sum(axis=0))>0).sum() ## total_missing_columns = (missing_columns > 0).sum()\n",
    "\n",
    "\n",
    "# Fill in the line below: How many missing entries are contained in \n",
    "# all of the training data?\n",
    "tot_missing = X_train.isnull().sum().sum() #276\n",
    "\n",
    "# Check your answers\n",
    "step_1.a.check()"
   ]
  },
  {
   "cell_type": "code",
   "execution_count": 13,
   "id": "01bf987b",
   "metadata": {
    "execution": {
     "iopub.execute_input": "2023-03-27T04:12:45.067076Z",
     "iopub.status.busy": "2023-03-27T04:12:45.066259Z",
     "iopub.status.idle": "2023-03-27T04:12:45.077695Z",
     "shell.execute_reply": "2023-03-27T04:12:45.076574Z"
    },
    "papermill": {
     "duration": 0.030876,
     "end_time": "2023-03-27T04:12:45.080116",
     "exception": false,
     "start_time": "2023-03-27T04:12:45.049240",
     "status": "completed"
    },
    "tags": []
   },
   "outputs": [
    {
     "data": {
      "application/javascript": [
       "parent.postMessage({\"jupyterEvent\": \"custom.exercise_interaction\", \"data\": {\"interactionType\": 2, \"questionType\": 1, \"questionId\": \"1.1_InvestigateEquality\", \"learnToolsVersion\": \"0.3.4\", \"valueTowardsCompletion\": 0.0, \"failureMessage\": \"\", \"exceptionClass\": \"\", \"trace\": \"\", \"outcomeType\": 4}}, \"*\")"
      ],
      "text/plain": [
       "<IPython.core.display.Javascript object>"
      ]
     },
     "metadata": {},
     "output_type": "display_data"
    },
    {
     "data": {
      "text/markdown": [
       "<span style=\"color:#3366cc\">Hint:</span> Use the output of `X_train.shape` to get the number of rows and columns in the training data.  The `missing_val_count_by_column` Series has an entry for each column in the data, and the output above prints the number of missing entries for each column with at least one missing entry."
      ],
      "text/plain": [
       "Hint: Use the output of `X_train.shape` to get the number of rows and columns in the training data.  The `missing_val_count_by_column` Series has an entry for each column in the data, and the output above prints the number of missing entries for each column with at least one missing entry."
      ]
     },
     "metadata": {},
     "output_type": "display_data"
    },
    {
     "data": {
      "application/javascript": [
       "parent.postMessage({\"jupyterEvent\": \"custom.exercise_interaction\", \"data\": {\"interactionType\": 3, \"questionType\": 1, \"questionId\": \"1.1_InvestigateEquality\", \"learnToolsVersion\": \"0.3.4\", \"valueTowardsCompletion\": 0.0, \"failureMessage\": \"\", \"exceptionClass\": \"\", \"trace\": \"\", \"outcomeType\": 4}}, \"*\")"
      ],
      "text/plain": [
       "<IPython.core.display.Javascript object>"
      ]
     },
     "metadata": {},
     "output_type": "display_data"
    },
    {
     "data": {
      "text/markdown": [
       "<span style=\"color:#33cc99\">Solution:</span> \n",
       "```python\n",
       "# How many rows are in the training data?\n",
       "num_rows = 1168\n",
       "\n",
       "# How many columns in the training data have missing values?\n",
       "num_cols_with_missing = 3\n",
       "\n",
       "# How many missing entries are contained in all of the training data?\n",
       "tot_missing = 212 + 6 + 58\n",
       "\n",
       "```"
      ],
      "text/plain": [
       "Solution: \n",
       "```python\n",
       "# How many rows are in the training data?\n",
       "num_rows = 1168\n",
       "\n",
       "# How many columns in the training data have missing values?\n",
       "num_cols_with_missing = 3\n",
       "\n",
       "# How many missing entries are contained in all of the training data?\n",
       "tot_missing = 212 + 6 + 58\n",
       "\n",
       "```"
      ]
     },
     "metadata": {},
     "output_type": "display_data"
    }
   ],
   "source": [
    "# Lines below will give you a hint or solution code\n",
    "step_1.a.hint()\n",
    "step_1.a.solution()"
   ]
  },
  {
   "cell_type": "markdown",
   "id": "3264fe11",
   "metadata": {
    "papermill": {
     "duration": 0.015237,
     "end_time": "2023-03-27T04:12:45.110969",
     "exception": false,
     "start_time": "2023-03-27T04:12:45.095732",
     "status": "completed"
    },
    "tags": []
   },
   "source": [
    "### Part B\n",
    "Considering your answers above, what do you think is likely the best approach to dealing with the missing values?"
   ]
  },
  {
   "cell_type": "markdown",
   "id": "797c3727",
   "metadata": {
    "papermill": {
     "duration": 0.015169,
     "end_time": "2023-03-27T04:12:45.141581",
     "exception": false,
     "start_time": "2023-03-27T04:12:45.126412",
     "status": "completed"
    },
    "tags": []
   },
   "source": [
    "**Ans:** I think just dropping the columns would be bad because its there are few missing values, so imputing them with any method would be better."
   ]
  },
  {
   "cell_type": "code",
   "execution_count": 14,
   "id": "b9b1e6ee",
   "metadata": {
    "execution": {
     "iopub.execute_input": "2023-03-27T04:12:45.175159Z",
     "iopub.status.busy": "2023-03-27T04:12:45.174735Z",
     "iopub.status.idle": "2023-03-27T04:12:45.182593Z",
     "shell.execute_reply": "2023-03-27T04:12:45.181539Z"
    },
    "papermill": {
     "duration": 0.027513,
     "end_time": "2023-03-27T04:12:45.184824",
     "exception": false,
     "start_time": "2023-03-27T04:12:45.157311",
     "status": "completed"
    },
    "tags": []
   },
   "outputs": [
    {
     "data": {
      "application/javascript": [
       "parent.postMessage({\"jupyterEvent\": \"custom.exercise_interaction\", \"data\": {\"outcomeType\": 1, \"valueTowardsCompletion\": 1.0, \"interactionType\": 1, \"questionType\": 4, \"questionId\": \"1.2_InvestigateThought\", \"learnToolsVersion\": \"0.3.4\", \"failureMessage\": \"\", \"exceptionClass\": \"\", \"trace\": \"\"}}, \"*\")"
      ],
      "text/plain": [
       "<IPython.core.display.Javascript object>"
      ]
     },
     "metadata": {},
     "output_type": "display_data"
    },
    {
     "data": {
      "text/markdown": [
       "<span style=\"color:#33cc33\">Correct:</span> \n",
       "\n",
       "Since there are relatively few missing entries in the data (the column with the greatest percentage of missing values is missing less than 20% of its entries), we can expect that dropping columns is unlikely to yield good results.  This is because we'd be throwing away a lot of valuable data, and so imputation will likely perform better."
      ],
      "text/plain": [
       "Correct: \n",
       "\n",
       "Since there are relatively few missing entries in the data (the column with the greatest percentage of missing values is missing less than 20% of its entries), we can expect that dropping columns is unlikely to yield good results.  This is because we'd be throwing away a lot of valuable data, and so imputation will likely perform better."
      ]
     },
     "metadata": {},
     "output_type": "display_data"
    }
   ],
   "source": [
    "# Check your answer (Run this code cell to receive credit!)\n",
    "step_1.b.check()"
   ]
  },
  {
   "cell_type": "code",
   "execution_count": 15,
   "id": "dd400591",
   "metadata": {
    "execution": {
     "iopub.execute_input": "2023-03-27T04:12:45.218807Z",
     "iopub.status.busy": "2023-03-27T04:12:45.217594Z",
     "iopub.status.idle": "2023-03-27T04:12:45.226558Z",
     "shell.execute_reply": "2023-03-27T04:12:45.225418Z"
    },
    "papermill": {
     "duration": 0.028294,
     "end_time": "2023-03-27T04:12:45.228856",
     "exception": false,
     "start_time": "2023-03-27T04:12:45.200562",
     "status": "completed"
    },
    "tags": []
   },
   "outputs": [
    {
     "data": {
      "application/javascript": [
       "parent.postMessage({\"jupyterEvent\": \"custom.exercise_interaction\", \"data\": {\"interactionType\": 2, \"questionType\": 4, \"questionId\": \"1.2_InvestigateThought\", \"learnToolsVersion\": \"0.3.4\", \"valueTowardsCompletion\": 0.0, \"failureMessage\": \"\", \"exceptionClass\": \"\", \"trace\": \"\", \"outcomeType\": 4}}, \"*\")"
      ],
      "text/plain": [
       "<IPython.core.display.Javascript object>"
      ]
     },
     "metadata": {},
     "output_type": "display_data"
    },
    {
     "data": {
      "text/markdown": [
       "<span style=\"color:#3366cc\">Hint:</span> Does the dataset have a lot of missing values, or just a few?  Would we lose much information if we completely ignored the columns with missing entries?"
      ],
      "text/plain": [
       "Hint: Does the dataset have a lot of missing values, or just a few?  Would we lose much information if we completely ignored the columns with missing entries?"
      ]
     },
     "metadata": {},
     "output_type": "display_data"
    }
   ],
   "source": [
    "step_1.b.hint()"
   ]
  },
  {
   "cell_type": "markdown",
   "id": "8244b830",
   "metadata": {
    "papermill": {
     "duration": 0.016023,
     "end_time": "2023-03-27T04:12:45.261242",
     "exception": false,
     "start_time": "2023-03-27T04:12:45.245219",
     "status": "completed"
    },
    "tags": []
   },
   "source": [
    "To compare different approaches to dealing with missing values, you'll use the same `score_dataset()` function from the tutorial.  This function reports the [mean absolute error](https://en.wikipedia.org/wiki/Mean_absolute_error) (MAE) from a random forest model."
   ]
  },
  {
   "cell_type": "code",
   "execution_count": 16,
   "id": "0dc59b9e",
   "metadata": {
    "execution": {
     "iopub.execute_input": "2023-03-27T04:12:45.295200Z",
     "iopub.status.busy": "2023-03-27T04:12:45.294776Z",
     "iopub.status.idle": "2023-03-27T04:12:45.672235Z",
     "shell.execute_reply": "2023-03-27T04:12:45.671162Z"
    },
    "papermill": {
     "duration": 0.397582,
     "end_time": "2023-03-27T04:12:45.674828",
     "exception": false,
     "start_time": "2023-03-27T04:12:45.277246",
     "status": "completed"
    },
    "tags": []
   },
   "outputs": [],
   "source": [
    "from sklearn.ensemble import RandomForestRegressor\n",
    "from sklearn.metrics import mean_absolute_error\n",
    "\n",
    "model = RandomForestRegressor(n_estimators=190, criterion='absolute_error', random_state=0)\n",
    "\n",
    "# Function for comparing different approaches\n",
    "def score_dataset(X_train, X_valid, y_train, y_valid, model = model):\n",
    "#     model = RandomForestRegressor(n_estimators=100, random_state=0)\n",
    "#     model = RandomForestRegressor(n_estimators=190, criterion='absolute_error', random_state=0)\n",
    "    model.fit(X_train, y_train)\n",
    "    preds = model.predict(X_valid)\n",
    "    return mean_absolute_error(y_valid, preds)"
   ]
  },
  {
   "cell_type": "markdown",
   "id": "1a51d96f",
   "metadata": {
    "papermill": {
     "duration": 0.015665,
     "end_time": "2023-03-27T04:12:45.706827",
     "exception": false,
     "start_time": "2023-03-27T04:12:45.691162",
     "status": "completed"
    },
    "tags": []
   },
   "source": [
    "# Step 2: Drop columns with missing values\n",
    "\n",
    "In this step, you'll preprocess the data in `X_train` and `X_valid` to remove columns with missing values.  Set the preprocessed DataFrames to `reduced_X_train` and `reduced_X_valid`, respectively.  "
   ]
  },
  {
   "cell_type": "code",
   "execution_count": 17,
   "id": "b4fa0a0c",
   "metadata": {
    "execution": {
     "iopub.execute_input": "2023-03-27T04:12:45.740716Z",
     "iopub.status.busy": "2023-03-27T04:12:45.740274Z",
     "iopub.status.idle": "2023-03-27T04:12:45.772035Z",
     "shell.execute_reply": "2023-03-27T04:12:45.770981Z"
    },
    "papermill": {
     "duration": 0.051682,
     "end_time": "2023-03-27T04:12:45.774493",
     "exception": false,
     "start_time": "2023-03-27T04:12:45.722811",
     "status": "completed"
    },
    "tags": []
   },
   "outputs": [
    {
     "data": {
      "application/javascript": [
       "parent.postMessage({\"jupyterEvent\": \"custom.exercise_interaction\", \"data\": {\"outcomeType\": 1, \"valueTowardsCompletion\": 1.0, \"interactionType\": 1, \"questionType\": 2, \"questionId\": \"2_DropMissing\", \"learnToolsVersion\": \"0.3.4\", \"failureMessage\": \"\", \"exceptionClass\": \"\", \"trace\": \"\"}}, \"*\")"
      ],
      "text/plain": [
       "<IPython.core.display.Javascript object>"
      ]
     },
     "metadata": {},
     "output_type": "display_data"
    },
    {
     "data": {
      "text/markdown": [
       "<span style=\"color:#33cc33\">Correct</span>"
      ],
      "text/plain": [
       "Correct"
      ]
     },
     "metadata": {},
     "output_type": "display_data"
    }
   ],
   "source": [
    "# Fill in the line below: get names of columns with missing values\n",
    "cols_with_missing = [col for col in X_train.columns\n",
    "                     if X_train[col].isnull().any()] # Your code here\n",
    "\n",
    "# Fill in the lines below: drop columns in training and validation data\n",
    "reduced_X_train = X_train.drop(cols_with_missing, axis=1)\n",
    "reduced_X_valid = X_valid.drop(cols_with_missing, axis=1)\n",
    "\n",
    "# Check your answers\n",
    "step_2.check()"
   ]
  },
  {
   "cell_type": "code",
   "execution_count": 18,
   "id": "fd4862a1",
   "metadata": {
    "execution": {
     "iopub.execute_input": "2023-03-27T04:12:45.808569Z",
     "iopub.status.busy": "2023-03-27T04:12:45.808150Z",
     "iopub.status.idle": "2023-03-27T04:12:45.822910Z",
     "shell.execute_reply": "2023-03-27T04:12:45.821833Z"
    },
    "papermill": {
     "duration": 0.034639,
     "end_time": "2023-03-27T04:12:45.825135",
     "exception": false,
     "start_time": "2023-03-27T04:12:45.790496",
     "status": "completed"
    },
    "tags": []
   },
   "outputs": [
    {
     "data": {
      "application/javascript": [
       "parent.postMessage({\"jupyterEvent\": \"custom.exercise_interaction\", \"data\": {\"interactionType\": 2, \"questionType\": 2, \"questionId\": \"2_DropMissing\", \"learnToolsVersion\": \"0.3.4\", \"valueTowardsCompletion\": 0.0, \"failureMessage\": \"\", \"exceptionClass\": \"\", \"trace\": \"\", \"outcomeType\": 4}}, \"*\")"
      ],
      "text/plain": [
       "<IPython.core.display.Javascript object>"
      ]
     },
     "metadata": {},
     "output_type": "display_data"
    },
    {
     "data": {
      "text/markdown": [
       "<span style=\"color:#3366cc\">Hint:</span> Begin by finding the list of columns in the data with missing values.  Then, drop these columns in both the training and validation data with the `drop()` method."
      ],
      "text/plain": [
       "Hint: Begin by finding the list of columns in the data with missing values.  Then, drop these columns in both the training and validation data with the `drop()` method."
      ]
     },
     "metadata": {},
     "output_type": "display_data"
    },
    {
     "data": {
      "application/javascript": [
       "parent.postMessage({\"jupyterEvent\": \"custom.exercise_interaction\", \"data\": {\"interactionType\": 3, \"questionType\": 2, \"questionId\": \"2_DropMissing\", \"learnToolsVersion\": \"0.3.4\", \"valueTowardsCompletion\": 0.0, \"failureMessage\": \"\", \"exceptionClass\": \"\", \"trace\": \"\", \"outcomeType\": 4}}, \"*\")"
      ],
      "text/plain": [
       "<IPython.core.display.Javascript object>"
      ]
     },
     "metadata": {},
     "output_type": "display_data"
    },
    {
     "data": {
      "text/markdown": [
       "<span style=\"color:#33cc99\">Solution:</span> \n",
       "```python\n",
       "# Get names of columns with missing values\n",
       "cols_with_missing = [col for col in X_train.columns\n",
       "                     if X_train[col].isnull().any()]\n",
       "\n",
       "# Drop columns in training and validation data\n",
       "reduced_X_train = X_train.drop(cols_with_missing, axis=1)\n",
       "reduced_X_valid = X_valid.drop(cols_with_missing, axis=1)\n",
       "\n",
       "```"
      ],
      "text/plain": [
       "Solution: \n",
       "```python\n",
       "# Get names of columns with missing values\n",
       "cols_with_missing = [col for col in X_train.columns\n",
       "                     if X_train[col].isnull().any()]\n",
       "\n",
       "# Drop columns in training and validation data\n",
       "reduced_X_train = X_train.drop(cols_with_missing, axis=1)\n",
       "reduced_X_valid = X_valid.drop(cols_with_missing, axis=1)\n",
       "\n",
       "```"
      ]
     },
     "metadata": {},
     "output_type": "display_data"
    }
   ],
   "source": [
    "# Lines below will give you a hint or solution code\n",
    "step_2.hint()\n",
    "step_2.solution()"
   ]
  },
  {
   "cell_type": "markdown",
   "id": "55952b77",
   "metadata": {
    "papermill": {
     "duration": 0.016606,
     "end_time": "2023-03-27T04:12:45.858679",
     "exception": false,
     "start_time": "2023-03-27T04:12:45.842073",
     "status": "completed"
    },
    "tags": []
   },
   "source": [
    "Run the next code cell without changes to obtain the MAE for this approach."
   ]
  },
  {
   "cell_type": "code",
   "execution_count": 19,
   "id": "be95fe17",
   "metadata": {
    "execution": {
     "iopub.execute_input": "2023-03-27T04:12:45.895917Z",
     "iopub.status.busy": "2023-03-27T04:12:45.895443Z",
     "iopub.status.idle": "2023-03-27T04:13:04.219610Z",
     "shell.execute_reply": "2023-03-27T04:13:04.218723Z"
    },
    "papermill": {
     "duration": 18.345425,
     "end_time": "2023-03-27T04:13:04.222379",
     "exception": false,
     "start_time": "2023-03-27T04:12:45.876954",
     "status": "completed"
    },
    "tags": []
   },
   "outputs": [
    {
     "name": "stdout",
     "output_type": "stream",
     "text": [
      "MAE (Drop columns with missing values):\n",
      "17787.695466834895\n"
     ]
    }
   ],
   "source": [
    "print(\"MAE (Drop columns with missing values):\")\n",
    "print(score_dataset(reduced_X_train, reduced_X_valid, y_train, y_valid))"
   ]
  },
  {
   "cell_type": "code",
   "execution_count": 20,
   "id": "b904aca7",
   "metadata": {
    "execution": {
     "iopub.execute_input": "2023-03-27T04:13:04.258765Z",
     "iopub.status.busy": "2023-03-27T04:13:04.257574Z",
     "iopub.status.idle": "2023-03-27T04:13:05.383076Z",
     "shell.execute_reply": "2023-03-27T04:13:05.381722Z"
    },
    "papermill": {
     "duration": 1.146636,
     "end_time": "2023-03-27T04:13:05.385981",
     "exception": false,
     "start_time": "2023-03-27T04:13:04.239345",
     "status": "completed"
    },
    "tags": []
   },
   "outputs": [
    {
     "name": "stdout",
     "output_type": "stream",
     "text": [
      "MAE (Drop columns with missing values):\n",
      "17837.82570776256\n"
     ]
    }
   ],
   "source": [
    "model = RandomForestRegressor(n_estimators=100, random_state=0)\n",
    "print(\"MAE (Drop columns with missing values):\")\n",
    "print(score_dataset(reduced_X_train, reduced_X_valid, y_train, y_valid, model = model ))"
   ]
  },
  {
   "cell_type": "markdown",
   "id": "04c72f36",
   "metadata": {
    "papermill": {
     "duration": 0.017389,
     "end_time": "2023-03-27T04:13:05.420715",
     "exception": false,
     "start_time": "2023-03-27T04:13:05.403326",
     "status": "completed"
    },
    "tags": []
   },
   "source": [
    "# Step 3: Imputation\n",
    "\n",
    "### Part A\n",
    "\n",
    "Use the next code cell to impute missing values with the mean value along each column.  Set the preprocessed DataFrames to `imputed_X_train` and `imputed_X_valid`.  Make sure that the column names match those in `X_train` and `X_valid`."
   ]
  },
  {
   "cell_type": "code",
   "execution_count": 21,
   "id": "da0134fb",
   "metadata": {
    "execution": {
     "iopub.execute_input": "2023-03-27T04:13:05.456678Z",
     "iopub.status.busy": "2023-03-27T04:13:05.456203Z",
     "iopub.status.idle": "2023-03-27T04:13:05.500546Z",
     "shell.execute_reply": "2023-03-27T04:13:05.499170Z"
    },
    "papermill": {
     "duration": 0.065368,
     "end_time": "2023-03-27T04:13:05.503194",
     "exception": false,
     "start_time": "2023-03-27T04:13:05.437826",
     "status": "completed"
    },
    "tags": []
   },
   "outputs": [
    {
     "data": {
      "application/javascript": [
       "parent.postMessage({\"jupyterEvent\": \"custom.exercise_interaction\", \"data\": {\"outcomeType\": 1, \"valueTowardsCompletion\": 1.0, \"interactionType\": 1, \"questionType\": 2, \"questionId\": \"3.1_ImputeCode\", \"learnToolsVersion\": \"0.3.4\", \"failureMessage\": \"\", \"exceptionClass\": \"\", \"trace\": \"\"}}, \"*\")"
      ],
      "text/plain": [
       "<IPython.core.display.Javascript object>"
      ]
     },
     "metadata": {},
     "output_type": "display_data"
    },
    {
     "data": {
      "text/markdown": [
       "<span style=\"color:#33cc33\">Correct</span>"
      ],
      "text/plain": [
       "Correct"
      ]
     },
     "metadata": {},
     "output_type": "display_data"
    }
   ],
   "source": [
    "from sklearn.impute import SimpleImputer\n",
    "\n",
    "# Fill in the lines below: imputation\n",
    "my_imputer = SimpleImputer()\n",
    "imputed_X_train = pd.DataFrame(my_imputer.fit_transform(X_train))\n",
    "imputed_X_valid = pd.DataFrame(my_imputer.transform(X_valid))\n",
    "\n",
    "# Fill in the lines below: imputation removed column names; put them back\n",
    "imputed_X_train.columns = X_train.columns\n",
    "imputed_X_valid.columns = X_valid.columns\n",
    "\n",
    "# Check your answers\n",
    "step_3.a.check()"
   ]
  },
  {
   "cell_type": "code",
   "execution_count": 22,
   "id": "3d5ad3c9",
   "metadata": {
    "execution": {
     "iopub.execute_input": "2023-03-27T04:13:05.540069Z",
     "iopub.status.busy": "2023-03-27T04:13:05.539021Z",
     "iopub.status.idle": "2023-03-27T04:13:05.553609Z",
     "shell.execute_reply": "2023-03-27T04:13:05.552482Z"
    },
    "papermill": {
     "duration": 0.035884,
     "end_time": "2023-03-27T04:13:05.556240",
     "exception": false,
     "start_time": "2023-03-27T04:13:05.520356",
     "status": "completed"
    },
    "tags": []
   },
   "outputs": [
    {
     "data": {
      "application/javascript": [
       "parent.postMessage({\"jupyterEvent\": \"custom.exercise_interaction\", \"data\": {\"interactionType\": 2, \"questionType\": 2, \"questionId\": \"3.1_ImputeCode\", \"learnToolsVersion\": \"0.3.4\", \"valueTowardsCompletion\": 0.0, \"failureMessage\": \"\", \"exceptionClass\": \"\", \"trace\": \"\", \"outcomeType\": 4}}, \"*\")"
      ],
      "text/plain": [
       "<IPython.core.display.Javascript object>"
      ]
     },
     "metadata": {},
     "output_type": "display_data"
    },
    {
     "data": {
      "text/markdown": [
       "<span style=\"color:#3366cc\">Hint:</span> Begin by defining an instance of the `SimpleImputer()` class.  Then, use the imputer to fit and transform the training data, before transforming the validation data. Get the original column names from the original DataFrames `X_train` and `X_valid`."
      ],
      "text/plain": [
       "Hint: Begin by defining an instance of the `SimpleImputer()` class.  Then, use the imputer to fit and transform the training data, before transforming the validation data. Get the original column names from the original DataFrames `X_train` and `X_valid`."
      ]
     },
     "metadata": {},
     "output_type": "display_data"
    },
    {
     "data": {
      "application/javascript": [
       "parent.postMessage({\"jupyterEvent\": \"custom.exercise_interaction\", \"data\": {\"interactionType\": 3, \"questionType\": 2, \"questionId\": \"3.1_ImputeCode\", \"learnToolsVersion\": \"0.3.4\", \"valueTowardsCompletion\": 0.0, \"failureMessage\": \"\", \"exceptionClass\": \"\", \"trace\": \"\", \"outcomeType\": 4}}, \"*\")"
      ],
      "text/plain": [
       "<IPython.core.display.Javascript object>"
      ]
     },
     "metadata": {},
     "output_type": "display_data"
    },
    {
     "data": {
      "text/markdown": [
       "<span style=\"color:#33cc99\">Solution:</span> \n",
       "```python\n",
       "# Imputation\n",
       "my_imputer = SimpleImputer()\n",
       "imputed_X_train = pd.DataFrame(my_imputer.fit_transform(X_train))\n",
       "imputed_X_valid = pd.DataFrame(my_imputer.transform(X_valid))\n",
       "\n",
       "# Imputation removed column names; put them back\n",
       "imputed_X_train.columns = X_train.columns\n",
       "imputed_X_valid.columns = X_valid.columns\n",
       "\n",
       "```"
      ],
      "text/plain": [
       "Solution: \n",
       "```python\n",
       "# Imputation\n",
       "my_imputer = SimpleImputer()\n",
       "imputed_X_train = pd.DataFrame(my_imputer.fit_transform(X_train))\n",
       "imputed_X_valid = pd.DataFrame(my_imputer.transform(X_valid))\n",
       "\n",
       "# Imputation removed column names; put them back\n",
       "imputed_X_train.columns = X_train.columns\n",
       "imputed_X_valid.columns = X_valid.columns\n",
       "\n",
       "```"
      ]
     },
     "metadata": {},
     "output_type": "display_data"
    }
   ],
   "source": [
    "# Lines below will give you a hint or solution code\n",
    "step_3.a.hint()\n",
    "step_3.a.solution()"
   ]
  },
  {
   "cell_type": "markdown",
   "id": "1aef89bf",
   "metadata": {
    "papermill": {
     "duration": 0.017748,
     "end_time": "2023-03-27T04:13:05.591791",
     "exception": false,
     "start_time": "2023-03-27T04:13:05.574043",
     "status": "completed"
    },
    "tags": []
   },
   "source": [
    "Run the next code cell without changes to obtain the MAE for this approach."
   ]
  },
  {
   "cell_type": "code",
   "execution_count": 23,
   "id": "e4864436",
   "metadata": {
    "execution": {
     "iopub.execute_input": "2023-03-27T04:13:05.629400Z",
     "iopub.status.busy": "2023-03-27T04:13:05.628974Z",
     "iopub.status.idle": "2023-03-27T04:13:25.774970Z",
     "shell.execute_reply": "2023-03-27T04:13:25.773177Z"
    },
    "papermill": {
     "duration": 20.168312,
     "end_time": "2023-03-27T04:13:25.777838",
     "exception": false,
     "start_time": "2023-03-27T04:13:05.609526",
     "status": "completed"
    },
    "tags": []
   },
   "outputs": [
    {
     "name": "stdout",
     "output_type": "stream",
     "text": [
      "MAE (Imputation):\n",
      "17908.082588320118\n"
     ]
    }
   ],
   "source": [
    "print(\"MAE (Imputation):\")\n",
    "print(score_dataset(imputed_X_train, imputed_X_valid, y_train, y_valid))"
   ]
  },
  {
   "cell_type": "markdown",
   "id": "badd6190",
   "metadata": {
    "papermill": {
     "duration": 0.017649,
     "end_time": "2023-03-27T04:13:25.814393",
     "exception": false,
     "start_time": "2023-03-27T04:13:25.796744",
     "status": "completed"
    },
    "tags": []
   },
   "source": [
    "### Part B\n",
    "\n",
    "Compare the MAE from each approach.  Does anything surprise you about the results?  Why do you think one approach performed better than the other?"
   ]
  },
  {
   "cell_type": "markdown",
   "id": "54f82da6",
   "metadata": {
    "papermill": {
     "duration": 0.017469,
     "end_time": "2023-03-27T04:13:25.849633",
     "exception": false,
     "start_time": "2023-03-27T04:13:25.832164",
     "status": "completed"
    },
    "tags": []
   },
   "source": [
    "**Ans:** i thought imputation would perform better but it didnt"
   ]
  },
  {
   "cell_type": "code",
   "execution_count": 24,
   "id": "bbb33828",
   "metadata": {
    "execution": {
     "iopub.execute_input": "2023-03-27T04:13:25.887073Z",
     "iopub.status.busy": "2023-03-27T04:13:25.886613Z",
     "iopub.status.idle": "2023-03-27T04:13:25.895804Z",
     "shell.execute_reply": "2023-03-27T04:13:25.894717Z"
    },
    "papermill": {
     "duration": 0.030614,
     "end_time": "2023-03-27T04:13:25.897964",
     "exception": false,
     "start_time": "2023-03-27T04:13:25.867350",
     "status": "completed"
    },
    "tags": []
   },
   "outputs": [
    {
     "data": {
      "application/javascript": [
       "parent.postMessage({\"jupyterEvent\": \"custom.exercise_interaction\", \"data\": {\"outcomeType\": 1, \"valueTowardsCompletion\": 1.0, \"interactionType\": 1, \"questionType\": 4, \"questionId\": \"3.2_ImputeThought\", \"learnToolsVersion\": \"0.3.4\", \"failureMessage\": \"\", \"exceptionClass\": \"\", \"trace\": \"\"}}, \"*\")"
      ],
      "text/plain": [
       "<IPython.core.display.Javascript object>"
      ]
     },
     "metadata": {},
     "output_type": "display_data"
    },
    {
     "data": {
      "text/markdown": [
       "<span style=\"color:#33cc33\">Correct:</span> \n",
       "\n",
       "Given that thre are so few missing values in the dataset, we'd expect imputation to perform better than dropping columns entirely.  However, we see that dropping columns performs slightly better!  While this can probably partially be attributed to noise in the dataset, another potential explanation is that the imputation method is not a great match to this dataset.  That is, maybe instead of filling in the mean value, it makes more sense to set every missing value to a value of 0, to fill in the most frequently encountered value, or to use some other method.  For instance, consider the `GarageYrBlt` column (which indicates the year that the garage was built).  It's likely that in some cases, a missing value could indicate a house that does not have a garage.  Does it make more sense to fill in the median value along each column in this case?  Or could we get better results by filling in the minimum value along each column?  It's not quite clear what's best in this case, but perhaps we can rule out some options immediately - for instance, setting missing values in this column to 0 is likely to yield horrible results!"
      ],
      "text/plain": [
       "Correct: \n",
       "\n",
       "Given that thre are so few missing values in the dataset, we'd expect imputation to perform better than dropping columns entirely.  However, we see that dropping columns performs slightly better!  While this can probably partially be attributed to noise in the dataset, another potential explanation is that the imputation method is not a great match to this dataset.  That is, maybe instead of filling in the mean value, it makes more sense to set every missing value to a value of 0, to fill in the most frequently encountered value, or to use some other method.  For instance, consider the `GarageYrBlt` column (which indicates the year that the garage was built).  It's likely that in some cases, a missing value could indicate a house that does not have a garage.  Does it make more sense to fill in the median value along each column in this case?  Or could we get better results by filling in the minimum value along each column?  It's not quite clear what's best in this case, but perhaps we can rule out some options immediately - for instance, setting missing values in this column to 0 is likely to yield horrible results!"
      ]
     },
     "metadata": {},
     "output_type": "display_data"
    }
   ],
   "source": [
    "# Check your answer (Run this code cell to receive credit!)\n",
    "step_3.b.check()"
   ]
  },
  {
   "cell_type": "code",
   "execution_count": 25,
   "id": "34c712ea",
   "metadata": {
    "execution": {
     "iopub.execute_input": "2023-03-27T04:13:25.936052Z",
     "iopub.status.busy": "2023-03-27T04:13:25.935390Z",
     "iopub.status.idle": "2023-03-27T04:13:25.945767Z",
     "shell.execute_reply": "2023-03-27T04:13:25.944815Z"
    },
    "papermill": {
     "duration": 0.032716,
     "end_time": "2023-03-27T04:13:25.949026",
     "exception": false,
     "start_time": "2023-03-27T04:13:25.916310",
     "status": "completed"
    },
    "tags": []
   },
   "outputs": [
    {
     "data": {
      "application/javascript": [
       "parent.postMessage({\"jupyterEvent\": \"custom.exercise_interaction\", \"data\": {\"interactionType\": 2, \"questionType\": 4, \"questionId\": \"3.2_ImputeThought\", \"learnToolsVersion\": \"0.3.4\", \"valueTowardsCompletion\": 0.0, \"failureMessage\": \"\", \"exceptionClass\": \"\", \"trace\": \"\", \"outcomeType\": 4}}, \"*\")"
      ],
      "text/plain": [
       "<IPython.core.display.Javascript object>"
      ]
     },
     "metadata": {},
     "output_type": "display_data"
    },
    {
     "data": {
      "text/markdown": [
       "<span style=\"color:#3366cc\">Hint:</span> Did removing missing values yield a larger or smaller MAE than imputation? Does this agree with the coding example from the tutorial?"
      ],
      "text/plain": [
       "Hint: Did removing missing values yield a larger or smaller MAE than imputation? Does this agree with the coding example from the tutorial?"
      ]
     },
     "metadata": {},
     "output_type": "display_data"
    }
   ],
   "source": [
    "step_3.b.hint()"
   ]
  },
  {
   "cell_type": "markdown",
   "id": "c65686ef",
   "metadata": {
    "papermill": {
     "duration": 0.018191,
     "end_time": "2023-03-27T04:13:25.989728",
     "exception": false,
     "start_time": "2023-03-27T04:13:25.971537",
     "status": "completed"
    },
    "tags": []
   },
   "source": [
    "# Step 4: Generate test predictions\n",
    "\n",
    "In this final step, you'll use any approach of your choosing to deal with missing values.  Once you've preprocessed the training and validation features, you'll train and evaluate a random forest model.  Then, you'll preprocess the test data before generating predictions that can be submitted to the competition!\n",
    "\n",
    "### Part A\n",
    "\n",
    "Use the next code cell to preprocess the training and validation data.  Set the preprocessed DataFrames to `final_X_train` and `final_X_valid`.  **You can use any approach of your choosing here!**  in order for this step to be marked as correct, you need only ensure:\n",
    "- the preprocessed DataFrames have the same number of columns,\n",
    "- the preprocessed DataFrames have no missing values, \n",
    "- `final_X_train` and `y_train` have the same number of rows, and\n",
    "- `final_X_valid` and `y_valid` have the same number of rows."
   ]
  },
  {
   "cell_type": "code",
   "execution_count": 26,
   "id": "dcacdf15",
   "metadata": {
    "execution": {
     "iopub.execute_input": "2023-03-27T04:13:26.029170Z",
     "iopub.status.busy": "2023-03-27T04:13:26.028023Z",
     "iopub.status.idle": "2023-03-27T04:13:26.059458Z",
     "shell.execute_reply": "2023-03-27T04:13:26.058228Z"
    },
    "papermill": {
     "duration": 0.054135,
     "end_time": "2023-03-27T04:13:26.062125",
     "exception": false,
     "start_time": "2023-03-27T04:13:26.007990",
     "status": "completed"
    },
    "tags": []
   },
   "outputs": [
    {
     "data": {
      "application/javascript": [
       "parent.postMessage({\"jupyterEvent\": \"custom.exercise_interaction\", \"data\": {\"outcomeType\": 1, \"valueTowardsCompletion\": 1.0, \"interactionType\": 1, \"questionType\": 2, \"questionId\": \"4.1_PredsCodeA\", \"learnToolsVersion\": \"0.3.4\", \"failureMessage\": \"\", \"exceptionClass\": \"\", \"trace\": \"\"}}, \"*\")"
      ],
      "text/plain": [
       "<IPython.core.display.Javascript object>"
      ]
     },
     "metadata": {},
     "output_type": "display_data"
    },
    {
     "data": {
      "text/markdown": [
       "<span style=\"color:#33cc33\">Correct</span>"
      ],
      "text/plain": [
       "Correct"
      ]
     },
     "metadata": {},
     "output_type": "display_data"
    }
   ],
   "source": [
    "# cols_with_missing = [col for col in X_train.columns\n",
    "#                      if X_train[col].isnull().any()]\n",
    "\n",
    "# # Preprocessed training and validation features\n",
    "# final_X_train = X_train.drop(cols_with_missing, axis=1)\n",
    "# final_X_valid = X_valid.drop(cols_with_missing, axis=1)\n",
    "\n",
    "# Imputation\n",
    "final_imputer = SimpleImputer(strategy='constant',fill_value=0)\n",
    "final_X_train = pd.DataFrame(final_imputer.fit_transform(X_train))\n",
    "final_X_valid = pd.DataFrame(final_imputer.transform(X_valid))\n",
    "\n",
    "# Imputation removed column names; put them back\n",
    "final_X_train.columns = X_train.columns\n",
    "final_X_valid.columns = X_valid.columns\n",
    "\n",
    "# Check your answers\n",
    "step_4.a.check()"
   ]
  },
  {
   "cell_type": "code",
   "execution_count": 27,
   "id": "2fe59052",
   "metadata": {
    "execution": {
     "iopub.execute_input": "2023-03-27T04:13:26.101069Z",
     "iopub.status.busy": "2023-03-27T04:13:26.100603Z",
     "iopub.status.idle": "2023-03-27T04:13:26.105836Z",
     "shell.execute_reply": "2023-03-27T04:13:26.104487Z"
    },
    "papermill": {
     "duration": 0.027679,
     "end_time": "2023-03-27T04:13:26.108190",
     "exception": false,
     "start_time": "2023-03-27T04:13:26.080511",
     "status": "completed"
    },
    "tags": []
   },
   "outputs": [],
   "source": [
    "# X_train.isnull().sum()"
   ]
  },
  {
   "cell_type": "code",
   "execution_count": 28,
   "id": "8a1f058b",
   "metadata": {
    "execution": {
     "iopub.execute_input": "2023-03-27T04:13:26.148108Z",
     "iopub.status.busy": "2023-03-27T04:13:26.147444Z",
     "iopub.status.idle": "2023-03-27T04:13:26.160094Z",
     "shell.execute_reply": "2023-03-27T04:13:26.159027Z"
    },
    "papermill": {
     "duration": 0.035158,
     "end_time": "2023-03-27T04:13:26.162371",
     "exception": false,
     "start_time": "2023-03-27T04:13:26.127213",
     "status": "completed"
    },
    "tags": []
   },
   "outputs": [
    {
     "data": {
      "application/javascript": [
       "parent.postMessage({\"jupyterEvent\": \"custom.exercise_interaction\", \"data\": {\"interactionType\": 2, \"questionType\": 2, \"questionId\": \"4.1_PredsCodeA\", \"learnToolsVersion\": \"0.3.4\", \"valueTowardsCompletion\": 0.0, \"failureMessage\": \"\", \"exceptionClass\": \"\", \"trace\": \"\", \"outcomeType\": 4}}, \"*\")"
      ],
      "text/plain": [
       "<IPython.core.display.Javascript object>"
      ]
     },
     "metadata": {},
     "output_type": "display_data"
    },
    {
     "data": {
      "text/markdown": [
       "<span style=\"color:#3366cc\">Hint:</span> Use any approach of your choosing to deal with missing values in the data.  For inspiration, check out the code from the tutorial!"
      ],
      "text/plain": [
       "Hint: Use any approach of your choosing to deal with missing values in the data.  For inspiration, check out the code from the tutorial!"
      ]
     },
     "metadata": {},
     "output_type": "display_data"
    },
    {
     "data": {
      "application/javascript": [
       "parent.postMessage({\"jupyterEvent\": \"custom.exercise_interaction\", \"data\": {\"interactionType\": 3, \"questionType\": 2, \"questionId\": \"4.1_PredsCodeA\", \"learnToolsVersion\": \"0.3.4\", \"valueTowardsCompletion\": 0.0, \"failureMessage\": \"\", \"exceptionClass\": \"\", \"trace\": \"\", \"outcomeType\": 4}}, \"*\")"
      ],
      "text/plain": [
       "<IPython.core.display.Javascript object>"
      ]
     },
     "metadata": {},
     "output_type": "display_data"
    },
    {
     "data": {
      "text/markdown": [
       "<span style=\"color:#33cc99\">Solution:</span> \n",
       "```python\n",
       "# Imputation\n",
       "final_imputer = SimpleImputer(strategy='median')\n",
       "final_X_train = pd.DataFrame(final_imputer.fit_transform(X_train))\n",
       "final_X_valid = pd.DataFrame(final_imputer.transform(X_valid))\n",
       "\n",
       "# Imputation removed column names; put them back\n",
       "final_X_train.columns = X_train.columns\n",
       "final_X_valid.columns = X_valid.columns\n",
       "\n",
       "```"
      ],
      "text/plain": [
       "Solution: \n",
       "```python\n",
       "# Imputation\n",
       "final_imputer = SimpleImputer(strategy='median')\n",
       "final_X_train = pd.DataFrame(final_imputer.fit_transform(X_train))\n",
       "final_X_valid = pd.DataFrame(final_imputer.transform(X_valid))\n",
       "\n",
       "# Imputation removed column names; put them back\n",
       "final_X_train.columns = X_train.columns\n",
       "final_X_valid.columns = X_valid.columns\n",
       "\n",
       "```"
      ]
     },
     "metadata": {},
     "output_type": "display_data"
    }
   ],
   "source": [
    "# Lines below will give you a hint or solution code\n",
    "step_4.a.hint()\n",
    "step_4.a.solution()"
   ]
  },
  {
   "cell_type": "markdown",
   "id": "73980b6e",
   "metadata": {
    "papermill": {
     "duration": 0.018738,
     "end_time": "2023-03-27T04:13:26.200102",
     "exception": false,
     "start_time": "2023-03-27T04:13:26.181364",
     "status": "completed"
    },
    "tags": []
   },
   "source": [
    "Run the next code cell to train and evaluate a random forest model.  (*Note that we don't use the `score_dataset()` function above, because we will soon use the trained model to generate test predictions!*)"
   ]
  },
  {
   "cell_type": "code",
   "execution_count": 29,
   "id": "d017be8b",
   "metadata": {
    "execution": {
     "iopub.execute_input": "2023-03-27T04:13:26.240440Z",
     "iopub.status.busy": "2023-03-27T04:13:26.240016Z",
     "iopub.status.idle": "2023-03-27T04:13:28.765350Z",
     "shell.execute_reply": "2023-03-27T04:13:28.763766Z"
    },
    "papermill": {
     "duration": 2.548765,
     "end_time": "2023-03-27T04:13:28.768013",
     "exception": false,
     "start_time": "2023-03-27T04:13:26.219248",
     "status": "completed"
    },
    "tags": []
   },
   "outputs": [
    {
     "name": "stdout",
     "output_type": "stream",
     "text": [
      "MAE (Your approach):\n",
      "17621.13579668349\n"
     ]
    }
   ],
   "source": [
    "# Define and fit model\n",
    "# model = RandomForestRegressor(n_estimators=100, random_state=0)\n",
    "model = RandomForestRegressor(n_estimators=190, criterion='squared_error', random_state=0) # criterion : {\"squared_error\", \"absolute_error\", \"poisson\"}\n",
    "model.fit(final_X_train, y_train)\n",
    "\n",
    "# Get validation predictions and MAE\n",
    "preds_valid = model.predict(final_X_valid)\n",
    "print(\"MAE (Your approach):\")\n",
    "print(mean_absolute_error(y_valid, preds_valid))"
   ]
  },
  {
   "cell_type": "markdown",
   "id": "0130cbcf",
   "metadata": {
    "papermill": {
     "duration": 0.018867,
     "end_time": "2023-03-27T04:13:28.806342",
     "exception": false,
     "start_time": "2023-03-27T04:13:28.787475",
     "status": "completed"
    },
    "tags": []
   },
   "source": [
    "### Part B\n",
    "\n",
    "Use the next code cell to preprocess your test data.  Make sure that you use a method that agrees with how you preprocessed the training and validation data, and set the preprocessed test features to `final_X_test`.\n",
    "\n",
    "Then, use the preprocessed test features and the trained model to generate test predictions in `preds_test`.\n",
    "\n",
    "In order for this step to be marked correct, you need only ensure:\n",
    "- the preprocessed test DataFrame has no missing values, and\n",
    "- `final_X_test` has the same number of rows as `X_test`."
   ]
  },
  {
   "cell_type": "code",
   "execution_count": 30,
   "id": "21a054c4",
   "metadata": {
    "execution": {
     "iopub.execute_input": "2023-03-27T04:13:28.846511Z",
     "iopub.status.busy": "2023-03-27T04:13:28.846112Z",
     "iopub.status.idle": "2023-03-27T04:13:28.932799Z",
     "shell.execute_reply": "2023-03-27T04:13:28.931688Z"
    },
    "papermill": {
     "duration": 0.109984,
     "end_time": "2023-03-27T04:13:28.935427",
     "exception": false,
     "start_time": "2023-03-27T04:13:28.825443",
     "status": "completed"
    },
    "tags": []
   },
   "outputs": [
    {
     "data": {
      "application/javascript": [
       "parent.postMessage({\"jupyterEvent\": \"custom.exercise_interaction\", \"data\": {\"outcomeType\": 1, \"valueTowardsCompletion\": 1.0, \"interactionType\": 1, \"questionType\": 2, \"questionId\": \"4.2_PredsCodeB\", \"learnToolsVersion\": \"0.3.4\", \"failureMessage\": \"\", \"exceptionClass\": \"\", \"trace\": \"\"}}, \"*\")"
      ],
      "text/plain": [
       "<IPython.core.display.Javascript object>"
      ]
     },
     "metadata": {},
     "output_type": "display_data"
    },
    {
     "data": {
      "text/markdown": [
       "<span style=\"color:#33cc33\">Correct</span>"
      ],
      "text/plain": [
       "Correct"
      ]
     },
     "metadata": {},
     "output_type": "display_data"
    }
   ],
   "source": [
    "# # Fill in the line below: preprocess test data\n",
    "# final_X_test = X_test.drop(cols_with_missing, axis=1)\n",
    "\n",
    "# # Fill in the line below: get test predictions\n",
    "# preds_test = model.predict(X_test)\n",
    "\n",
    "# Preprocess test data\n",
    "final_X_test = pd.DataFrame(final_imputer.transform(X_test))\n",
    "final_X_test.columns = X_test.columns\n",
    "\n",
    "# Get test predictions\n",
    "preds_test = model.predict(final_X_test)\n",
    "\n",
    "# Check your answers\n",
    "step_4.b.check()"
   ]
  },
  {
   "cell_type": "code",
   "execution_count": 31,
   "id": "a11147b3",
   "metadata": {
    "execution": {
     "iopub.execute_input": "2023-03-27T04:13:28.975772Z",
     "iopub.status.busy": "2023-03-27T04:13:28.975324Z",
     "iopub.status.idle": "2023-03-27T04:13:28.988906Z",
     "shell.execute_reply": "2023-03-27T04:13:28.987714Z"
    },
    "papermill": {
     "duration": 0.036788,
     "end_time": "2023-03-27T04:13:28.991402",
     "exception": false,
     "start_time": "2023-03-27T04:13:28.954614",
     "status": "completed"
    },
    "tags": []
   },
   "outputs": [
    {
     "data": {
      "application/javascript": [
       "parent.postMessage({\"jupyterEvent\": \"custom.exercise_interaction\", \"data\": {\"interactionType\": 2, \"questionType\": 2, \"questionId\": \"4.2_PredsCodeB\", \"learnToolsVersion\": \"0.3.4\", \"valueTowardsCompletion\": 0.0, \"failureMessage\": \"\", \"exceptionClass\": \"\", \"trace\": \"\", \"outcomeType\": 4}}, \"*\")"
      ],
      "text/plain": [
       "<IPython.core.display.Javascript object>"
      ]
     },
     "metadata": {},
     "output_type": "display_data"
    },
    {
     "data": {
      "text/markdown": [
       "<span style=\"color:#3366cc\">Hint:</span> After preprocessing the test data, you can get the model's predictions by using `model.predict()`."
      ],
      "text/plain": [
       "Hint: After preprocessing the test data, you can get the model's predictions by using `model.predict()`."
      ]
     },
     "metadata": {},
     "output_type": "display_data"
    },
    {
     "data": {
      "application/javascript": [
       "parent.postMessage({\"jupyterEvent\": \"custom.exercise_interaction\", \"data\": {\"interactionType\": 3, \"questionType\": 2, \"questionId\": \"4.2_PredsCodeB\", \"learnToolsVersion\": \"0.3.4\", \"valueTowardsCompletion\": 0.0, \"failureMessage\": \"\", \"exceptionClass\": \"\", \"trace\": \"\", \"outcomeType\": 4}}, \"*\")"
      ],
      "text/plain": [
       "<IPython.core.display.Javascript object>"
      ]
     },
     "metadata": {},
     "output_type": "display_data"
    },
    {
     "data": {
      "text/markdown": [
       "<span style=\"color:#33cc99\">Solution:</span> \n",
       "```python\n",
       "# Preprocess test data\n",
       "final_X_test = pd.DataFrame(final_imputer.transform(X_test))\n",
       "\n",
       "# Get test predictions\n",
       "preds_test = model.predict(final_X_test)\n",
       "\n",
       "```"
      ],
      "text/plain": [
       "Solution: \n",
       "```python\n",
       "# Preprocess test data\n",
       "final_X_test = pd.DataFrame(final_imputer.transform(X_test))\n",
       "\n",
       "# Get test predictions\n",
       "preds_test = model.predict(final_X_test)\n",
       "\n",
       "```"
      ]
     },
     "metadata": {},
     "output_type": "display_data"
    }
   ],
   "source": [
    "# Lines below will give you a hint or solution code\n",
    "step_4.b.hint()\n",
    "step_4.b.solution()"
   ]
  },
  {
   "cell_type": "markdown",
   "id": "3c5eb9d3",
   "metadata": {
    "papermill": {
     "duration": 0.019652,
     "end_time": "2023-03-27T04:13:29.031504",
     "exception": false,
     "start_time": "2023-03-27T04:13:29.011852",
     "status": "completed"
    },
    "tags": []
   },
   "source": [
    "Run the next code cell without changes to save your results to a CSV file that can be submitted directly to the competition."
   ]
  },
  {
   "cell_type": "code",
   "execution_count": 32,
   "id": "868d0ccb",
   "metadata": {
    "execution": {
     "iopub.execute_input": "2023-03-27T04:13:29.073008Z",
     "iopub.status.busy": "2023-03-27T04:13:29.072569Z",
     "iopub.status.idle": "2023-03-27T04:13:29.087599Z",
     "shell.execute_reply": "2023-03-27T04:13:29.086421Z"
    },
    "papermill": {
     "duration": 0.039211,
     "end_time": "2023-03-27T04:13:29.090575",
     "exception": false,
     "start_time": "2023-03-27T04:13:29.051364",
     "status": "completed"
    },
    "tags": []
   },
   "outputs": [],
   "source": [
    "# Save test predictions to file\n",
    "output = pd.DataFrame({'Id': X_test.index,\n",
    "                       'SalePrice': preds_test})\n",
    "output.to_csv('submission.csv', index=False)"
   ]
  },
  {
   "cell_type": "markdown",
   "id": "28f2db49",
   "metadata": {
    "papermill": {
     "duration": 0.019592,
     "end_time": "2023-03-27T04:13:29.130307",
     "exception": false,
     "start_time": "2023-03-27T04:13:29.110715",
     "status": "completed"
    },
    "tags": []
   },
   "source": [
    "# Submit your results\n",
    "\n",
    "Once you have successfully completed Step 4, you're ready to submit your results to the leaderboard!  (_You also learned how to do this in the previous exercise.  If you need a reminder of how to do this, please use the instructions below._)  \n",
    "\n",
    "First, you'll need to join the competition if you haven't already.  So open a new window by clicking on [this link](https://www.kaggle.com/c/home-data-for-ml-course).  Then click on the **Join Competition** button.\n",
    "\n",
    "![join competition image](https://i.imgur.com/wLmFtH3.png)\n",
    "\n",
    "Next, follow the instructions below:\n",
    "1. Begin by clicking on the **Save Version** button in the top right corner of the window.  This will generate a pop-up window.  \n",
    "2. Ensure that the **Save and Run All** option is selected, and then click on the **Save** button.\n",
    "3. This generates a window in the bottom left corner of the notebook.  After it has finished running, click on the number to the right of the **Save Version** button.  This pulls up a list of versions on the right of the screen.  Click on the ellipsis **(...)** to the right of the most recent version, and select **Open in Viewer**.  This brings you into view mode of the same page. You will need to scroll down to get back to these instructions.\n",
    "4. Click on the **Output** tab on the right of the screen.  Then, click on the file you would like to submit, and click on the **Submit** button to submit your results to the leaderboard.\n",
    "\n",
    "You have now successfully submitted to the competition!\n",
    "\n",
    "If you want to keep working to improve your performance, select the **Edit** button in the top right of the screen. Then you can change your code and repeat the process. There's a lot of room to improve, and you will climb up the leaderboard as you work.\n",
    "\n",
    "\n",
    "# Keep going\n",
    "\n",
    "Move on to learn what **[categorical variables](https://www.kaggle.com/alexisbcook/categorical-variables)** are, along with how to incorporate them into your machine learning models.  Categorical variables are very common in real-world data, but you'll get an error if you try to plug them into your models without processing them first!"
   ]
  },
  {
   "cell_type": "markdown",
   "id": "2e0f889e",
   "metadata": {
    "papermill": {
     "duration": 0.019832,
     "end_time": "2023-03-27T04:13:29.169919",
     "exception": false,
     "start_time": "2023-03-27T04:13:29.150087",
     "status": "completed"
    },
    "tags": []
   },
   "source": [
    "---\n",
    "\n",
    "\n",
    "\n",
    "\n",
    "*Have questions or comments? Visit the [course discussion forum](https://www.kaggle.com/learn/intermediate-machine-learning/discussion) to chat with other learners.*"
   ]
  }
 ],
 "metadata": {
  "kernelspec": {
   "display_name": "Python 3",
   "language": "python",
   "name": "python3"
  },
  "language_info": {
   "codemirror_mode": {
    "name": "ipython",
    "version": 3
   },
   "file_extension": ".py",
   "mimetype": "text/x-python",
   "name": "python",
   "nbconvert_exporter": "python",
   "pygments_lexer": "ipython3",
   "version": "3.7.12"
  },
  "papermill": {
   "default_parameters": {},
   "duration": 59.77675,
   "end_time": "2023-03-27T04:13:30.012988",
   "environment_variables": {},
   "exception": null,
   "input_path": "__notebook__.ipynb",
   "output_path": "__notebook__.ipynb",
   "parameters": {},
   "start_time": "2023-03-27T04:12:30.236238",
   "version": "2.4.0"
  }
 },
 "nbformat": 4,
 "nbformat_minor": 5
}
