{
 "cells": [
  {
   "cell_type": "markdown",
   "id": "4216891e",
   "metadata": {
    "papermill": {
     "duration": 0.013906,
     "end_time": "2023-03-27T07:59:27.706612",
     "exception": false,
     "start_time": "2023-03-27T07:59:27.692706",
     "status": "completed"
    },
    "tags": []
   },
   "source": [
    "**This notebook is an exercise in the [Intermediate Machine Learning](https://www.kaggle.com/learn/intermediate-machine-learning) course.  You can reference the tutorial at [this link](https://www.kaggle.com/alexisbcook/categorical-variables).**\n",
    "\n",
    "---\n"
   ]
  },
  {
   "cell_type": "markdown",
   "id": "9216c575",
   "metadata": {
    "papermill": {
     "duration": 0.012118,
     "end_time": "2023-03-27T07:59:27.732349",
     "exception": false,
     "start_time": "2023-03-27T07:59:27.720231",
     "status": "completed"
    },
    "tags": []
   },
   "source": [
    "By encoding **categorical variables**, you'll obtain your best results thus far!\n",
    "\n",
    "# Setup\n",
    "\n",
    "The questions below will give you feedback on your work. Run the following cell to set up the feedback system."
   ]
  },
  {
   "cell_type": "code",
   "execution_count": 1,
   "id": "5ea8ab58",
   "metadata": {
    "execution": {
     "iopub.execute_input": "2023-03-27T07:59:27.762398Z",
     "iopub.status.busy": "2023-03-27T07:59:27.761615Z",
     "iopub.status.idle": "2023-03-27T07:59:27.810944Z",
     "shell.execute_reply": "2023-03-27T07:59:27.809259Z"
    },
    "papermill": {
     "duration": 0.067811,
     "end_time": "2023-03-27T07:59:27.814263",
     "exception": false,
     "start_time": "2023-03-27T07:59:27.746452",
     "status": "completed"
    },
    "tags": []
   },
   "outputs": [
    {
     "name": "stdout",
     "output_type": "stream",
     "text": [
      "Setup Complete\n"
     ]
    }
   ],
   "source": [
    "# Set up code checking\n",
    "import os\n",
    "if not os.path.exists(\"../input/train.csv\"):\n",
    "    os.symlink(\"../input/home-data-for-ml-course/train.csv\", \"../input/train.csv\")  \n",
    "    os.symlink(\"../input/home-data-for-ml-course/test.csv\", \"../input/test.csv\") \n",
    "from learntools.core import binder\n",
    "binder.bind(globals())\n",
    "from learntools.ml_intermediate.ex3 import *\n",
    "print(\"Setup Complete\")"
   ]
  },
  {
   "cell_type": "markdown",
   "id": "1b3a4820",
   "metadata": {
    "papermill": {
     "duration": 0.012034,
     "end_time": "2023-03-27T07:59:27.838850",
     "exception": false,
     "start_time": "2023-03-27T07:59:27.826816",
     "status": "completed"
    },
    "tags": []
   },
   "source": [
    "In this exercise, you will work with data from the [Housing Prices Competition for Kaggle Learn Users](https://www.kaggle.com/c/home-data-for-ml-course). \n",
    "\n",
    "![Ames Housing dataset image](https://i.imgur.com/lTJVG4e.png)\n",
    "\n",
    "Run the next code cell without changes to load the training and validation sets in `X_train`, `X_valid`, `y_train`, and `y_valid`.  The test set is loaded in `X_test`."
   ]
  },
  {
   "cell_type": "code",
   "execution_count": 2,
   "id": "752491c2",
   "metadata": {
    "execution": {
     "iopub.execute_input": "2023-03-27T07:59:27.865620Z",
     "iopub.status.busy": "2023-03-27T07:59:27.865163Z",
     "iopub.status.idle": "2023-03-27T07:59:29.069630Z",
     "shell.execute_reply": "2023-03-27T07:59:29.068365Z"
    },
    "papermill": {
     "duration": 1.221447,
     "end_time": "2023-03-27T07:59:29.072852",
     "exception": false,
     "start_time": "2023-03-27T07:59:27.851405",
     "status": "completed"
    },
    "tags": []
   },
   "outputs": [],
   "source": [
    "import pandas as pd\n",
    "from sklearn.model_selection import train_test_split\n",
    "\n",
    "# Read the data\n",
    "X = pd.read_csv('../input/train.csv', index_col='Id') \n",
    "X_test = pd.read_csv('../input/test.csv', index_col='Id')\n",
    "\n",
    "# Remove rows with missing target, separate target from predictors\n",
    "X.dropna(axis=0, subset=['SalePrice'], inplace=True)\n",
    "y = X.SalePrice\n",
    "X.drop(['SalePrice'], axis=1, inplace=True)\n",
    "\n",
    "# # To keep things simple, we'll drop columns with missing values\n",
    "cols_with_missing = [col for col in X.columns if X[col].isnull().any()] \n",
    "X.drop(cols_with_missing, axis=1, inplace=True)\n",
    "X_test.drop(cols_with_missing, axis=1, inplace=True)\n",
    "\n",
    "# Break off validation set from training data\n",
    "X_train, X_valid, y_train, y_valid = train_test_split(X, y,\n",
    "                                                      train_size=0.8, test_size=0.2,\n",
    "                                                      random_state=0)"
   ]
  },
  {
   "cell_type": "code",
   "execution_count": 3,
   "id": "cc9c3013",
   "metadata": {
    "execution": {
     "iopub.execute_input": "2023-03-27T07:59:29.101050Z",
     "iopub.status.busy": "2023-03-27T07:59:29.100614Z",
     "iopub.status.idle": "2023-03-27T07:59:29.105403Z",
     "shell.execute_reply": "2023-03-27T07:59:29.103941Z"
    },
    "papermill": {
     "duration": 0.021316,
     "end_time": "2023-03-27T07:59:29.107910",
     "exception": false,
     "start_time": "2023-03-27T07:59:29.086594",
     "status": "completed"
    },
    "tags": []
   },
   "outputs": [],
   "source": [
    "# s = (X_train.dtypes == 'object')\n",
    "# object_cols = list(s[s].index)\n",
    "\n",
    "\n",
    "# print(\"Categorical variables:\")\n",
    "# print(object_cols)\n",
    "\n",
    "# s[s]\n",
    "\n",
    "# s\n",
    "\n",
    "# s.index"
   ]
  },
  {
   "cell_type": "markdown",
   "id": "62166107",
   "metadata": {
    "papermill": {
     "duration": 0.012596,
     "end_time": "2023-03-27T07:59:29.132806",
     "exception": false,
     "start_time": "2023-03-27T07:59:29.120210",
     "status": "completed"
    },
    "tags": []
   },
   "source": [
    "Use the next code cell to print the first five rows of the data."
   ]
  },
  {
   "cell_type": "code",
   "execution_count": 4,
   "id": "e840fc71",
   "metadata": {
    "execution": {
     "iopub.execute_input": "2023-03-27T07:59:29.159617Z",
     "iopub.status.busy": "2023-03-27T07:59:29.159213Z",
     "iopub.status.idle": "2023-03-27T07:59:29.163650Z",
     "shell.execute_reply": "2023-03-27T07:59:29.162587Z"
    },
    "papermill": {
     "duration": 0.021242,
     "end_time": "2023-03-27T07:59:29.166421",
     "exception": false,
     "start_time": "2023-03-27T07:59:29.145179",
     "status": "completed"
    },
    "tags": []
   },
   "outputs": [],
   "source": [
    "# X_train.head()"
   ]
  },
  {
   "cell_type": "markdown",
   "id": "d0c74b99",
   "metadata": {
    "papermill": {
     "duration": 0.011876,
     "end_time": "2023-03-27T07:59:29.190484",
     "exception": false,
     "start_time": "2023-03-27T07:59:29.178608",
     "status": "completed"
    },
    "tags": []
   },
   "source": [
    "Notice that the dataset contains both numerical and categorical variables.  You'll need to encode the categorical data before training a model.\n",
    "\n",
    "To compare different models, you'll use the same `score_dataset()` function from the tutorial.  This function reports the [mean absolute error](https://en.wikipedia.org/wiki/Mean_absolute_error) (MAE) from a random forest model."
   ]
  },
  {
   "cell_type": "code",
   "execution_count": 5,
   "id": "7290d508",
   "metadata": {
    "execution": {
     "iopub.execute_input": "2023-03-27T07:59:29.216974Z",
     "iopub.status.busy": "2023-03-27T07:59:29.216258Z",
     "iopub.status.idle": "2023-03-27T07:59:29.573766Z",
     "shell.execute_reply": "2023-03-27T07:59:29.572187Z"
    },
    "papermill": {
     "duration": 0.374468,
     "end_time": "2023-03-27T07:59:29.577030",
     "exception": false,
     "start_time": "2023-03-27T07:59:29.202562",
     "status": "completed"
    },
    "tags": []
   },
   "outputs": [],
   "source": [
    "from sklearn.ensemble import RandomForestRegressor\n",
    "from sklearn.metrics import mean_absolute_error\n",
    "\n",
    "# function for comparing different approaches\n",
    "def score_dataset(X_train, X_valid, y_train, y_valid):\n",
    "#     model = RandomForestRegressor(n_estimators=100, random_state=0)\n",
    "    model = RandomForestRegressor(n_estimators=190, criterion = 'squared_error', random_state=0)\n",
    "    model.fit(X_train, y_train)\n",
    "    preds = model.predict(X_valid)\n",
    "    return mean_absolute_error(y_valid, preds)"
   ]
  },
  {
   "cell_type": "markdown",
   "id": "f19ae5e4",
   "metadata": {
    "papermill": {
     "duration": 0.011971,
     "end_time": "2023-03-27T07:59:29.601446",
     "exception": false,
     "start_time": "2023-03-27T07:59:29.589475",
     "status": "completed"
    },
    "tags": []
   },
   "source": [
    "# Step 1: Drop columns with categorical data\n",
    "\n",
    "You'll get started with the most straightforward approach.  Use the code cell below to preprocess the data in `X_train` and `X_valid` to remove columns with categorical data.  Set the preprocessed DataFrames to `drop_X_train` and `drop_X_valid`, respectively.  "
   ]
  },
  {
   "cell_type": "code",
   "execution_count": 6,
   "id": "bbe46c45",
   "metadata": {
    "execution": {
     "iopub.execute_input": "2023-03-27T07:59:29.628234Z",
     "iopub.status.busy": "2023-03-27T07:59:29.627558Z",
     "iopub.status.idle": "2023-03-27T07:59:29.644910Z",
     "shell.execute_reply": "2023-03-27T07:59:29.643561Z"
    },
    "papermill": {
     "duration": 0.033928,
     "end_time": "2023-03-27T07:59:29.647710",
     "exception": false,
     "start_time": "2023-03-27T07:59:29.613782",
     "status": "completed"
    },
    "tags": []
   },
   "outputs": [
    {
     "data": {
      "application/javascript": [
       "parent.postMessage({\"jupyterEvent\": \"custom.exercise_interaction\", \"data\": {\"outcomeType\": 1, \"valueTowardsCompletion\": 0.5, \"interactionType\": 1, \"questionType\": 2, \"questionId\": \"1_Drop\", \"learnToolsVersion\": \"0.3.4\", \"failureMessage\": \"\", \"exceptionClass\": \"\", \"trace\": \"\"}}, \"*\")"
      ],
      "text/plain": [
       "<IPython.core.display.Javascript object>"
      ]
     },
     "metadata": {},
     "output_type": "display_data"
    },
    {
     "data": {
      "text/markdown": [
       "<span style=\"color:#33cc33\">Correct</span>"
      ],
      "text/plain": [
       "Correct"
      ]
     },
     "metadata": {},
     "output_type": "display_data"
    }
   ],
   "source": [
    "# Fill in the lines below: drop columns in training and validation data\n",
    "drop_X_train = X_train.select_dtypes(exclude=['object'])\n",
    "drop_X_valid = X_valid.select_dtypes(exclude=['object'])\n",
    "\n",
    "# Check your answers\n",
    "step_1.check()"
   ]
  },
  {
   "cell_type": "code",
   "execution_count": 7,
   "id": "f590fb98",
   "metadata": {
    "execution": {
     "iopub.execute_input": "2023-03-27T07:59:29.679207Z",
     "iopub.status.busy": "2023-03-27T07:59:29.678784Z",
     "iopub.status.idle": "2023-03-27T07:59:29.691775Z",
     "shell.execute_reply": "2023-03-27T07:59:29.690565Z"
    },
    "papermill": {
     "duration": 0.033773,
     "end_time": "2023-03-27T07:59:29.694186",
     "exception": false,
     "start_time": "2023-03-27T07:59:29.660413",
     "status": "completed"
    },
    "tags": []
   },
   "outputs": [
    {
     "data": {
      "application/javascript": [
       "parent.postMessage({\"jupyterEvent\": \"custom.exercise_interaction\", \"data\": {\"interactionType\": 2, \"questionType\": 2, \"questionId\": \"1_Drop\", \"learnToolsVersion\": \"0.3.4\", \"valueTowardsCompletion\": 0.0, \"failureMessage\": \"\", \"exceptionClass\": \"\", \"trace\": \"\", \"outcomeType\": 4}}, \"*\")"
      ],
      "text/plain": [
       "<IPython.core.display.Javascript object>"
      ]
     },
     "metadata": {},
     "output_type": "display_data"
    },
    {
     "data": {
      "text/markdown": [
       "<span style=\"color:#3366cc\">Hint:</span> Use the [`select_dtypes()`](https://pandas.pydata.org/pandas-docs/stable/reference/api/pandas.DataFrame.select_dtypes.html) method to drop all columns with the `object` dtype."
      ],
      "text/plain": [
       "Hint: Use the [`select_dtypes()`](https://pandas.pydata.org/pandas-docs/stable/reference/api/pandas.DataFrame.select_dtypes.html) method to drop all columns with the `object` dtype."
      ]
     },
     "metadata": {},
     "output_type": "display_data"
    },
    {
     "data": {
      "application/javascript": [
       "parent.postMessage({\"jupyterEvent\": \"custom.exercise_interaction\", \"data\": {\"interactionType\": 3, \"questionType\": 2, \"questionId\": \"1_Drop\", \"learnToolsVersion\": \"0.3.4\", \"valueTowardsCompletion\": 0.0, \"failureMessage\": \"\", \"exceptionClass\": \"\", \"trace\": \"\", \"outcomeType\": 4}}, \"*\")"
      ],
      "text/plain": [
       "<IPython.core.display.Javascript object>"
      ]
     },
     "metadata": {},
     "output_type": "display_data"
    },
    {
     "data": {
      "text/markdown": [
       "<span style=\"color:#33cc99\">Solution:</span> \n",
       "```python\n",
       "# Drop columns in training and validation data\n",
       "drop_X_train = X_train.select_dtypes(exclude=['object'])\n",
       "drop_X_valid = X_valid.select_dtypes(exclude=['object'])\n",
       "\n",
       "```"
      ],
      "text/plain": [
       "Solution: \n",
       "```python\n",
       "# Drop columns in training and validation data\n",
       "drop_X_train = X_train.select_dtypes(exclude=['object'])\n",
       "drop_X_valid = X_valid.select_dtypes(exclude=['object'])\n",
       "\n",
       "```"
      ]
     },
     "metadata": {},
     "output_type": "display_data"
    }
   ],
   "source": [
    "# Lines below will give you a hint or solution code\n",
    "step_1.hint()\n",
    "step_1.solution()"
   ]
  },
  {
   "cell_type": "markdown",
   "id": "3eb035e6",
   "metadata": {
    "papermill": {
     "duration": 0.012493,
     "end_time": "2023-03-27T07:59:29.719531",
     "exception": false,
     "start_time": "2023-03-27T07:59:29.707038",
     "status": "completed"
    },
    "tags": []
   },
   "source": [
    "Run the next code cell to get the MAE for this approach."
   ]
  },
  {
   "cell_type": "code",
   "execution_count": 8,
   "id": "cac69978",
   "metadata": {
    "execution": {
     "iopub.execute_input": "2023-03-27T07:59:29.747686Z",
     "iopub.status.busy": "2023-03-27T07:59:29.746769Z",
     "iopub.status.idle": "2023-03-27T07:59:31.922637Z",
     "shell.execute_reply": "2023-03-27T07:59:31.921480Z"
    },
    "papermill": {
     "duration": 2.193486,
     "end_time": "2023-03-27T07:59:31.925980",
     "exception": false,
     "start_time": "2023-03-27T07:59:29.732494",
     "status": "completed"
    },
    "tags": []
   },
   "outputs": [
    {
     "name": "stdout",
     "output_type": "stream",
     "text": [
      "MAE from Approach 1 (Drop categorical variables):\n",
      "17394.289587839463\n"
     ]
    }
   ],
   "source": [
    "print(\"MAE from Approach 1 (Drop categorical variables):\")\n",
    "print(score_dataset(drop_X_train, drop_X_valid, y_train, y_valid))"
   ]
  },
  {
   "cell_type": "markdown",
   "id": "fcaedf12",
   "metadata": {
    "papermill": {
     "duration": 0.012869,
     "end_time": "2023-03-27T07:59:31.955527",
     "exception": false,
     "start_time": "2023-03-27T07:59:31.942658",
     "status": "completed"
    },
    "tags": []
   },
   "source": [
    "Before jumping into ordinal encoding, we'll investigate the dataset.  Specifically, we'll look at the `'Condition2'` column.  The code cell below prints the unique entries in both the training and validation sets."
   ]
  },
  {
   "cell_type": "code",
   "execution_count": 9,
   "id": "e1130d73",
   "metadata": {
    "execution": {
     "iopub.execute_input": "2023-03-27T07:59:31.985868Z",
     "iopub.status.busy": "2023-03-27T07:59:31.984754Z",
     "iopub.status.idle": "2023-03-27T07:59:31.994379Z",
     "shell.execute_reply": "2023-03-27T07:59:31.993127Z"
    },
    "papermill": {
     "duration": 0.027601,
     "end_time": "2023-03-27T07:59:31.997055",
     "exception": false,
     "start_time": "2023-03-27T07:59:31.969454",
     "status": "completed"
    },
    "tags": []
   },
   "outputs": [
    {
     "name": "stdout",
     "output_type": "stream",
     "text": [
      "Unique values in 'Condition2' column in training data: ['Norm' 'PosA' 'Feedr' 'PosN' 'Artery' 'RRAe']\n",
      "\n",
      "Unique values in 'Condition2' column in validation data: ['Norm' 'RRAn' 'RRNn' 'Artery' 'Feedr' 'PosN']\n"
     ]
    }
   ],
   "source": [
    "print(\"Unique values in 'Condition2' column in training data:\", X_train['Condition2'].unique())\n",
    "print(\"\\nUnique values in 'Condition2' column in validation data:\", X_valid['Condition2'].unique())"
   ]
  },
  {
   "cell_type": "markdown",
   "id": "a4d40e41",
   "metadata": {
    "papermill": {
     "duration": 0.013886,
     "end_time": "2023-03-27T07:59:32.024509",
     "exception": false,
     "start_time": "2023-03-27T07:59:32.010623",
     "status": "completed"
    },
    "tags": []
   },
   "source": [
    "**Question:** why are the unique values different in training and validationi data?"
   ]
  },
  {
   "cell_type": "code",
   "execution_count": 10,
   "id": "c54d9d7b",
   "metadata": {
    "execution": {
     "iopub.execute_input": "2023-03-27T07:59:32.060158Z",
     "iopub.status.busy": "2023-03-27T07:59:32.059102Z",
     "iopub.status.idle": "2023-03-27T07:59:32.068448Z",
     "shell.execute_reply": "2023-03-27T07:59:32.067179Z"
    },
    "papermill": {
     "duration": 0.032834,
     "end_time": "2023-03-27T07:59:32.071213",
     "exception": false,
     "start_time": "2023-03-27T07:59:32.038379",
     "status": "completed"
    },
    "tags": []
   },
   "outputs": [
    {
     "data": {
      "text/plain": [
       "Index(['MSSubClass', 'MSZoning', 'LotArea', 'Street', 'LotShape',\n",
       "       'LandContour', 'Utilities', 'LotConfig', 'LandSlope', 'Neighborhood',\n",
       "       'Condition1', 'Condition2', 'BldgType', 'HouseStyle', 'OverallQual',\n",
       "       'OverallCond', 'YearBuilt', 'YearRemodAdd', 'RoofStyle', 'RoofMatl',\n",
       "       'Exterior1st', 'Exterior2nd', 'ExterQual', 'ExterCond', 'Foundation',\n",
       "       'BsmtFinSF1', 'BsmtFinSF2', 'BsmtUnfSF', 'TotalBsmtSF', 'Heating',\n",
       "       'HeatingQC', 'CentralAir', '1stFlrSF', '2ndFlrSF', 'LowQualFinSF',\n",
       "       'GrLivArea', 'BsmtFullBath', 'BsmtHalfBath', 'FullBath', 'HalfBath',\n",
       "       'BedroomAbvGr', 'KitchenAbvGr', 'KitchenQual', 'TotRmsAbvGrd',\n",
       "       'Functional', 'Fireplaces', 'GarageCars', 'GarageArea', 'PavedDrive',\n",
       "       'WoodDeckSF', 'OpenPorchSF', 'EnclosedPorch', '3SsnPorch',\n",
       "       'ScreenPorch', 'PoolArea', 'MiscVal', 'MoSold', 'YrSold', 'SaleType',\n",
       "       'SaleCondition'],\n",
       "      dtype='object')"
      ]
     },
     "execution_count": 10,
     "metadata": {},
     "output_type": "execute_result"
    }
   ],
   "source": [
    "X_train.columns"
   ]
  },
  {
   "cell_type": "code",
   "execution_count": 11,
   "id": "cddd69bb",
   "metadata": {
    "execution": {
     "iopub.execute_input": "2023-03-27T07:59:32.102668Z",
     "iopub.status.busy": "2023-03-27T07:59:32.101695Z",
     "iopub.status.idle": "2023-03-27T07:59:32.110642Z",
     "shell.execute_reply": "2023-03-27T07:59:32.109411Z"
    },
    "papermill": {
     "duration": 0.028052,
     "end_time": "2023-03-27T07:59:32.113188",
     "exception": false,
     "start_time": "2023-03-27T07:59:32.085136",
     "status": "completed"
    },
    "tags": []
   },
   "outputs": [
    {
     "data": {
      "text/plain": [
       "array(['AllPub', 'NoSeWa'], dtype=object)"
      ]
     },
     "execution_count": 11,
     "metadata": {},
     "output_type": "execute_result"
    }
   ],
   "source": [
    "X_train.Utilities.unique()"
   ]
  },
  {
   "cell_type": "code",
   "execution_count": 12,
   "id": "4a2d7c9f",
   "metadata": {
    "execution": {
     "iopub.execute_input": "2023-03-27T07:59:32.146512Z",
     "iopub.status.busy": "2023-03-27T07:59:32.145037Z",
     "iopub.status.idle": "2023-03-27T07:59:32.154094Z",
     "shell.execute_reply": "2023-03-27T07:59:32.153064Z"
    },
    "papermill": {
     "duration": 0.029575,
     "end_time": "2023-03-27T07:59:32.156588",
     "exception": false,
     "start_time": "2023-03-27T07:59:32.127013",
     "status": "completed"
    },
    "tags": []
   },
   "outputs": [
    {
     "data": {
      "text/plain": [
       "array(['AllPub'], dtype=object)"
      ]
     },
     "execution_count": 12,
     "metadata": {},
     "output_type": "execute_result"
    }
   ],
   "source": [
    "X_valid.Utilities.unique()"
   ]
  },
  {
   "cell_type": "markdown",
   "id": "823d9869",
   "metadata": {
    "papermill": {
     "duration": 0.017546,
     "end_time": "2023-03-27T07:59:32.195022",
     "exception": false,
     "start_time": "2023-03-27T07:59:32.177476",
     "status": "completed"
    },
    "tags": []
   },
   "source": [
    "# Step 2: Ordinal encoding\n",
    "\n",
    "### Part A\n",
    "\n",
    "If you now write code to: \n",
    "- fit an ordinal encoder to the training data, and then \n",
    "- use it to transform both the training and validation data, \n",
    "\n",
    "you'll get an error.  Can you see why this is the case?  (_You'll need  to use the above output to answer this question._)"
   ]
  },
  {
   "cell_type": "markdown",
   "id": "38325032",
   "metadata": {
    "papermill": {
     "duration": 0.013418,
     "end_time": "2023-03-27T07:59:32.222393",
     "exception": false,
     "start_time": "2023-03-27T07:59:32.208975",
     "status": "completed"
    },
    "tags": []
   },
   "source": [
    "**Ans:** the unique values in train and valid data has changed, but idk why?"
   ]
  },
  {
   "cell_type": "code",
   "execution_count": 13,
   "id": "ba9a8e6f",
   "metadata": {
    "execution": {
     "iopub.execute_input": "2023-03-27T07:59:32.252761Z",
     "iopub.status.busy": "2023-03-27T07:59:32.251875Z",
     "iopub.status.idle": "2023-03-27T07:59:32.261613Z",
     "shell.execute_reply": "2023-03-27T07:59:32.260635Z"
    },
    "papermill": {
     "duration": 0.027825,
     "end_time": "2023-03-27T07:59:32.264103",
     "exception": false,
     "start_time": "2023-03-27T07:59:32.236278",
     "status": "completed"
    },
    "tags": []
   },
   "outputs": [
    {
     "data": {
      "application/javascript": [
       "parent.postMessage({\"jupyterEvent\": \"custom.exercise_interaction\", \"data\": {\"outcomeType\": 1, \"valueTowardsCompletion\": 0.5, \"interactionType\": 1, \"questionType\": 4, \"questionId\": \"2.1_LabelA\", \"learnToolsVersion\": \"0.3.4\", \"failureMessage\": \"\", \"exceptionClass\": \"\", \"trace\": \"\"}}, \"*\")"
      ],
      "text/plain": [
       "<IPython.core.display.Javascript object>"
      ]
     },
     "metadata": {},
     "output_type": "display_data"
    },
    {
     "data": {
      "text/markdown": [
       "<span style=\"color:#33cc33\">Correct:</span> \n",
       "\n",
       "Fitting an ordinal encoder to a column in the training data creates a corresponding integer-valued label for each unique value **that appears in the training data**. In the case that the validation data contains values that don't also appear in the training data, the encoder will throw an error, because these values won't have an integer assigned to them.  Notice that the `'Condition2'` column in the validation data contains the values `'RRAn'` and `'RRNn'`, but these don't appear in the training data -- thus, if we try to use an ordinal encoder with scikit-learn, the code will throw an error."
      ],
      "text/plain": [
       "Correct: \n",
       "\n",
       "Fitting an ordinal encoder to a column in the training data creates a corresponding integer-valued label for each unique value **that appears in the training data**. In the case that the validation data contains values that don't also appear in the training data, the encoder will throw an error, because these values won't have an integer assigned to them.  Notice that the `'Condition2'` column in the validation data contains the values `'RRAn'` and `'RRNn'`, but these don't appear in the training data -- thus, if we try to use an ordinal encoder with scikit-learn, the code will throw an error."
      ]
     },
     "metadata": {},
     "output_type": "display_data"
    }
   ],
   "source": [
    "# Check your answer (Run this code cell to receive credit!)\n",
    "step_2.a.check()"
   ]
  },
  {
   "cell_type": "code",
   "execution_count": 14,
   "id": "cda38ea9",
   "metadata": {
    "execution": {
     "iopub.execute_input": "2023-03-27T07:59:32.294156Z",
     "iopub.status.busy": "2023-03-27T07:59:32.293714Z",
     "iopub.status.idle": "2023-03-27T07:59:32.303852Z",
     "shell.execute_reply": "2023-03-27T07:59:32.302580Z"
    },
    "papermill": {
     "duration": 0.028343,
     "end_time": "2023-03-27T07:59:32.306405",
     "exception": false,
     "start_time": "2023-03-27T07:59:32.278062",
     "status": "completed"
    },
    "tags": []
   },
   "outputs": [
    {
     "data": {
      "application/javascript": [
       "parent.postMessage({\"jupyterEvent\": \"custom.exercise_interaction\", \"data\": {\"interactionType\": 2, \"questionType\": 4, \"questionId\": \"2.1_LabelA\", \"learnToolsVersion\": \"0.3.4\", \"valueTowardsCompletion\": 0.0, \"failureMessage\": \"\", \"exceptionClass\": \"\", \"trace\": \"\", \"outcomeType\": 4}}, \"*\")"
      ],
      "text/plain": [
       "<IPython.core.display.Javascript object>"
      ]
     },
     "metadata": {},
     "output_type": "display_data"
    },
    {
     "data": {
      "text/markdown": [
       "<span style=\"color:#3366cc\">Hint:</span> Are there any values that appear in the validation data but not in the training data?"
      ],
      "text/plain": [
       "Hint: Are there any values that appear in the validation data but not in the training data?"
      ]
     },
     "metadata": {},
     "output_type": "display_data"
    }
   ],
   "source": [
    "step_2.a.hint()"
   ]
  },
  {
   "cell_type": "markdown",
   "id": "15f0a165",
   "metadata": {
    "papermill": {
     "duration": 0.013851,
     "end_time": "2023-03-27T07:59:32.334267",
     "exception": false,
     "start_time": "2023-03-27T07:59:32.320416",
     "status": "completed"
    },
    "tags": []
   },
   "source": [
    "This is a common problem that you'll encounter with real-world data, and there are many approaches to fixing this issue.  For instance, you can write a custom ordinal encoder to deal with new categories.  The simplest approach, however, is to drop the problematic categorical columns.  \n",
    "\n",
    "Run the code cell below to save the problematic columns to a Python list `bad_label_cols`.  Likewise, columns that can be safely ordinal encoded are stored in `good_label_cols`."
   ]
  },
  {
   "cell_type": "code",
   "execution_count": 15,
   "id": "cc9532d6",
   "metadata": {
    "execution": {
     "iopub.execute_input": "2023-03-27T07:59:32.365067Z",
     "iopub.status.busy": "2023-03-27T07:59:32.364213Z",
     "iopub.status.idle": "2023-03-27T07:59:32.380572Z",
     "shell.execute_reply": "2023-03-27T07:59:32.379016Z"
    },
    "papermill": {
     "duration": 0.035306,
     "end_time": "2023-03-27T07:59:32.383687",
     "exception": false,
     "start_time": "2023-03-27T07:59:32.348381",
     "status": "completed"
    },
    "tags": []
   },
   "outputs": [
    {
     "name": "stdout",
     "output_type": "stream",
     "text": [
      "Categorical columns that will be ordinal encoded: ['MSZoning', 'Street', 'LotShape', 'LandContour', 'Utilities', 'LotConfig', 'LandSlope', 'Neighborhood', 'Condition1', 'BldgType', 'HouseStyle', 'RoofStyle', 'Exterior1st', 'Exterior2nd', 'ExterQual', 'ExterCond', 'Foundation', 'Heating', 'HeatingQC', 'CentralAir', 'KitchenQual', 'PavedDrive', 'SaleType', 'SaleCondition']\n",
      "\n",
      "Categorical columns that will be dropped from the dataset: ['Condition2', 'RoofMatl', 'Functional']\n"
     ]
    }
   ],
   "source": [
    "# Categorical columns in the training data\n",
    "object_cols = [col for col in X_train.columns if X_train[col].dtype == \"object\"]\n",
    "\n",
    "# Columns that can be safely ordinal encoded\n",
    "good_label_cols = [col for col in object_cols if \n",
    "                   set(X_valid[col]).issubset(set(X_train[col]))]\n",
    "        \n",
    "# Problematic columns that will be dropped from the dataset\n",
    "bad_label_cols = list(set(object_cols)-set(good_label_cols))\n",
    "        \n",
    "print('Categorical columns that will be ordinal encoded:', good_label_cols)\n",
    "print('\\nCategorical columns that will be dropped from the dataset:', bad_label_cols)"
   ]
  },
  {
   "cell_type": "markdown",
   "id": "0607f19d",
   "metadata": {
    "papermill": {
     "duration": 0.014327,
     "end_time": "2023-03-27T07:59:32.417843",
     "exception": false,
     "start_time": "2023-03-27T07:59:32.403516",
     "status": "completed"
    },
    "tags": []
   },
   "source": [
    "### Part B\n",
    "\n",
    "Use the next code cell to ordinal encode the data in `X_train` and `X_valid`.  Set the preprocessed DataFrames to `label_X_train` and `label_X_valid`, respectively.  \n",
    "- We have provided code below to drop the categorical columns in `bad_label_cols` from the dataset. \n",
    "- You should ordinal encode the categorical columns in `good_label_cols`.  "
   ]
  },
  {
   "cell_type": "code",
   "execution_count": 16,
   "id": "47eb6c22",
   "metadata": {
    "execution": {
     "iopub.execute_input": "2023-03-27T07:59:32.449666Z",
     "iopub.status.busy": "2023-03-27T07:59:32.448789Z",
     "iopub.status.idle": "2023-03-27T07:59:32.498816Z",
     "shell.execute_reply": "2023-03-27T07:59:32.497361Z"
    },
    "papermill": {
     "duration": 0.068935,
     "end_time": "2023-03-27T07:59:32.501749",
     "exception": false,
     "start_time": "2023-03-27T07:59:32.432814",
     "status": "completed"
    },
    "tags": []
   },
   "outputs": [
    {
     "data": {
      "application/javascript": [
       "parent.postMessage({\"jupyterEvent\": \"custom.exercise_interaction\", \"data\": {\"outcomeType\": 1, \"valueTowardsCompletion\": 0.5, \"interactionType\": 1, \"questionType\": 2, \"questionId\": \"2.2_LabelB\", \"learnToolsVersion\": \"0.3.4\", \"failureMessage\": \"\", \"exceptionClass\": \"\", \"trace\": \"\"}}, \"*\")"
      ],
      "text/plain": [
       "<IPython.core.display.Javascript object>"
      ]
     },
     "metadata": {},
     "output_type": "display_data"
    },
    {
     "data": {
      "text/markdown": [
       "<span style=\"color:#33cc33\">Correct</span>"
      ],
      "text/plain": [
       "Correct"
      ]
     },
     "metadata": {},
     "output_type": "display_data"
    }
   ],
   "source": [
    "from sklearn.preprocessing import OrdinalEncoder\n",
    "\n",
    "# Drop categorical columns that will not be encoded\n",
    "label_X_train = X_train.drop(bad_label_cols, axis=1)\n",
    "label_X_valid = X_valid.drop(bad_label_cols, axis=1)\n",
    "\n",
    "# Apply ordinal encoder to each column with categorical data\n",
    "ordinal_encoder = OrdinalEncoder()\n",
    "label_X_train[good_label_cols] = ordinal_encoder.fit_transform(X_train[good_label_cols])\n",
    "label_X_valid[good_label_cols] = ordinal_encoder.transform(X_valid[good_label_cols]) \n",
    "\n",
    "# Check your answer\n",
    "step_2.b.check()"
   ]
  },
  {
   "cell_type": "code",
   "execution_count": 17,
   "id": "92e8459b",
   "metadata": {
    "execution": {
     "iopub.execute_input": "2023-03-27T07:59:32.532269Z",
     "iopub.status.busy": "2023-03-27T07:59:32.531872Z",
     "iopub.status.idle": "2023-03-27T07:59:32.546871Z",
     "shell.execute_reply": "2023-03-27T07:59:32.545676Z"
    },
    "papermill": {
     "duration": 0.033294,
     "end_time": "2023-03-27T07:59:32.549363",
     "exception": false,
     "start_time": "2023-03-27T07:59:32.516069",
     "status": "completed"
    },
    "tags": []
   },
   "outputs": [
    {
     "data": {
      "application/javascript": [
       "parent.postMessage({\"jupyterEvent\": \"custom.exercise_interaction\", \"data\": {\"interactionType\": 2, \"questionType\": 2, \"questionId\": \"2.2_LabelB\", \"learnToolsVersion\": \"0.3.4\", \"valueTowardsCompletion\": 0.0, \"failureMessage\": \"\", \"exceptionClass\": \"\", \"trace\": \"\", \"outcomeType\": 4}}, \"*\")"
      ],
      "text/plain": [
       "<IPython.core.display.Javascript object>"
      ]
     },
     "metadata": {},
     "output_type": "display_data"
    },
    {
     "data": {
      "text/markdown": [
       "<span style=\"color:#3366cc\">Hint:</span> Use the `OrdinalEncoder` class from scikit-learn. You should only encode the columns in `good_label_cols`."
      ],
      "text/plain": [
       "Hint: Use the `OrdinalEncoder` class from scikit-learn. You should only encode the columns in `good_label_cols`."
      ]
     },
     "metadata": {},
     "output_type": "display_data"
    },
    {
     "data": {
      "application/javascript": [
       "parent.postMessage({\"jupyterEvent\": \"custom.exercise_interaction\", \"data\": {\"interactionType\": 3, \"questionType\": 2, \"questionId\": \"2.2_LabelB\", \"learnToolsVersion\": \"0.3.4\", \"valueTowardsCompletion\": 0.0, \"failureMessage\": \"\", \"exceptionClass\": \"\", \"trace\": \"\", \"outcomeType\": 4}}, \"*\")"
      ],
      "text/plain": [
       "<IPython.core.display.Javascript object>"
      ]
     },
     "metadata": {},
     "output_type": "display_data"
    },
    {
     "data": {
      "text/markdown": [
       "<span style=\"color:#33cc99\">Solution:</span> \n",
       "```python\n",
       "# Drop categorical columns that will not be encoded\n",
       "label_X_train = X_train.drop(bad_label_cols, axis=1)\n",
       "label_X_valid = X_valid.drop(bad_label_cols, axis=1)\n",
       "\n",
       "# Apply ordinal encoder\n",
       "ordinal_encoder = OrdinalEncoder()\n",
       "label_X_train[good_label_cols] = ordinal_encoder.fit_transform(X_train[good_label_cols])\n",
       "label_X_valid[good_label_cols] = ordinal_encoder.transform(X_valid[good_label_cols])\n",
       "\n",
       "```"
      ],
      "text/plain": [
       "Solution: \n",
       "```python\n",
       "# Drop categorical columns that will not be encoded\n",
       "label_X_train = X_train.drop(bad_label_cols, axis=1)\n",
       "label_X_valid = X_valid.drop(bad_label_cols, axis=1)\n",
       "\n",
       "# Apply ordinal encoder\n",
       "ordinal_encoder = OrdinalEncoder()\n",
       "label_X_train[good_label_cols] = ordinal_encoder.fit_transform(X_train[good_label_cols])\n",
       "label_X_valid[good_label_cols] = ordinal_encoder.transform(X_valid[good_label_cols])\n",
       "\n",
       "```"
      ]
     },
     "metadata": {},
     "output_type": "display_data"
    }
   ],
   "source": [
    "# Lines below will give you a hint or solution code\n",
    "step_2.b.hint()\n",
    "step_2.b.solution()"
   ]
  },
  {
   "cell_type": "markdown",
   "id": "c013f4df",
   "metadata": {
    "papermill": {
     "duration": 0.014659,
     "end_time": "2023-03-27T07:59:32.578799",
     "exception": false,
     "start_time": "2023-03-27T07:59:32.564140",
     "status": "completed"
    },
    "tags": []
   },
   "source": [
    "Run the next code cell to get the MAE for this approach."
   ]
  },
  {
   "cell_type": "code",
   "execution_count": 18,
   "id": "34bfe421",
   "metadata": {
    "execution": {
     "iopub.execute_input": "2023-03-27T07:59:32.611161Z",
     "iopub.status.busy": "2023-03-27T07:59:32.610329Z",
     "iopub.status.idle": "2023-03-27T07:59:35.369405Z",
     "shell.execute_reply": "2023-03-27T07:59:35.367608Z"
    },
    "papermill": {
     "duration": 2.780184,
     "end_time": "2023-03-27T07:59:35.373853",
     "exception": false,
     "start_time": "2023-03-27T07:59:32.593669",
     "status": "completed"
    },
    "tags": []
   },
   "outputs": [
    {
     "name": "stdout",
     "output_type": "stream",
     "text": [
      "MAE from Approach 2 (Ordinal Encoding):\n",
      "16814.748576063444\n"
     ]
    }
   ],
   "source": [
    "print(\"MAE from Approach 2 (Ordinal Encoding):\") \n",
    "print(score_dataset(label_X_train, label_X_valid, y_train, y_valid))"
   ]
  },
  {
   "cell_type": "markdown",
   "id": "af375e36",
   "metadata": {
    "papermill": {
     "duration": 0.01456,
     "end_time": "2023-03-27T07:59:35.403952",
     "exception": false,
     "start_time": "2023-03-27T07:59:35.389392",
     "status": "completed"
    },
    "tags": []
   },
   "source": [
    "So far, you've tried two different approaches to dealing with categorical variables.  And, you've seen that encoding categorical data yields better results than removing columns from the dataset.\n",
    "\n",
    "Soon, you'll try one-hot encoding.  Before then, there's one additional topic we need to cover.  Begin by running the next code cell without changes.  "
   ]
  },
  {
   "cell_type": "code",
   "execution_count": 19,
   "id": "73dfb3e3",
   "metadata": {
    "execution": {
     "iopub.execute_input": "2023-03-27T07:59:35.436690Z",
     "iopub.status.busy": "2023-03-27T07:59:35.435868Z",
     "iopub.status.idle": "2023-03-27T07:59:35.450916Z",
     "shell.execute_reply": "2023-03-27T07:59:35.449582Z"
    },
    "papermill": {
     "duration": 0.034786,
     "end_time": "2023-03-27T07:59:35.453668",
     "exception": false,
     "start_time": "2023-03-27T07:59:35.418882",
     "status": "completed"
    },
    "tags": []
   },
   "outputs": [
    {
     "data": {
      "text/plain": [
       "[('Street', 2),\n",
       " ('Utilities', 2),\n",
       " ('CentralAir', 2),\n",
       " ('LandSlope', 3),\n",
       " ('PavedDrive', 3),\n",
       " ('LotShape', 4),\n",
       " ('LandContour', 4),\n",
       " ('ExterQual', 4),\n",
       " ('KitchenQual', 4),\n",
       " ('MSZoning', 5),\n",
       " ('LotConfig', 5),\n",
       " ('BldgType', 5),\n",
       " ('ExterCond', 5),\n",
       " ('HeatingQC', 5),\n",
       " ('Condition2', 6),\n",
       " ('RoofStyle', 6),\n",
       " ('Foundation', 6),\n",
       " ('Heating', 6),\n",
       " ('Functional', 6),\n",
       " ('SaleCondition', 6),\n",
       " ('RoofMatl', 7),\n",
       " ('HouseStyle', 8),\n",
       " ('Condition1', 9),\n",
       " ('SaleType', 9),\n",
       " ('Exterior1st', 15),\n",
       " ('Exterior2nd', 16),\n",
       " ('Neighborhood', 25)]"
      ]
     },
     "execution_count": 19,
     "metadata": {},
     "output_type": "execute_result"
    }
   ],
   "source": [
    "# Get number of unique entries in each column with categorical data\n",
    "object_nunique = list(map(lambda col: X_train[col].nunique(), object_cols))\n",
    "d = dict(zip(object_cols, object_nunique))\n",
    "\n",
    "# Print number of unique entries by column, in ascending order\n",
    "sorted(d.items(), key=lambda x: x[1])"
   ]
  },
  {
   "cell_type": "markdown",
   "id": "05e80a7e",
   "metadata": {
    "papermill": {
     "duration": 0.014834,
     "end_time": "2023-03-27T07:59:35.483926",
     "exception": false,
     "start_time": "2023-03-27T07:59:35.469092",
     "status": "completed"
    },
    "tags": []
   },
   "source": [
    "# Step 3: Investigating cardinality\n",
    "\n",
    "### Part A\n",
    "\n",
    "The output above shows, for each column with categorical data, the number of unique values in the column.  For instance, the `'Street'` column in the training data has two unique values: `'Grvl'` and `'Pave'`, corresponding to a gravel road and a paved road, respectively.\n",
    "\n",
    "We refer to the number of unique entries of a categorical variable as the **cardinality** of that categorical variable.  For instance, the `'Street'` variable has cardinality 2.\n",
    "\n",
    "Use the output above to answer the questions below."
   ]
  },
  {
   "cell_type": "code",
   "execution_count": 20,
   "id": "68687d04",
   "metadata": {
    "execution": {
     "iopub.execute_input": "2023-03-27T07:59:35.516264Z",
     "iopub.status.busy": "2023-03-27T07:59:35.515829Z",
     "iopub.status.idle": "2023-03-27T07:59:35.526187Z",
     "shell.execute_reply": "2023-03-27T07:59:35.524966Z"
    },
    "papermill": {
     "duration": 0.029597,
     "end_time": "2023-03-27T07:59:35.528606",
     "exception": false,
     "start_time": "2023-03-27T07:59:35.499009",
     "status": "completed"
    },
    "tags": []
   },
   "outputs": [
    {
     "data": {
      "application/javascript": [
       "parent.postMessage({\"jupyterEvent\": \"custom.exercise_interaction\", \"data\": {\"outcomeType\": 1, \"valueTowardsCompletion\": 0.5, \"interactionType\": 1, \"questionType\": 1, \"questionId\": \"3.1_CardinalityA\", \"learnToolsVersion\": \"0.3.4\", \"failureMessage\": \"\", \"exceptionClass\": \"\", \"trace\": \"\"}}, \"*\")"
      ],
      "text/plain": [
       "<IPython.core.display.Javascript object>"
      ]
     },
     "metadata": {},
     "output_type": "display_data"
    },
    {
     "data": {
      "text/markdown": [
       "<span style=\"color:#33cc33\">Correct</span>"
      ],
      "text/plain": [
       "Correct"
      ]
     },
     "metadata": {},
     "output_type": "display_data"
    }
   ],
   "source": [
    "# Fill in the line below: How many categorical variables in the training data\n",
    "# have cardinality greater than 10?\n",
    "high_cardinality_numcols = 3\n",
    "\n",
    "# Fill in the line below: How many columns are needed to one-hot encode the \n",
    "# 'Neighborhood' variable in the training data?\n",
    "num_cols_neighborhood = 25\n",
    "\n",
    "# Check your answers\n",
    "step_3.a.check()"
   ]
  },
  {
   "cell_type": "code",
   "execution_count": 21,
   "id": "e68476fb",
   "metadata": {
    "execution": {
     "iopub.execute_input": "2023-03-27T07:59:35.562152Z",
     "iopub.status.busy": "2023-03-27T07:59:35.561707Z",
     "iopub.status.idle": "2023-03-27T07:59:35.575182Z",
     "shell.execute_reply": "2023-03-27T07:59:35.573981Z"
    },
    "papermill": {
     "duration": 0.033552,
     "end_time": "2023-03-27T07:59:35.577830",
     "exception": false,
     "start_time": "2023-03-27T07:59:35.544278",
     "status": "completed"
    },
    "tags": []
   },
   "outputs": [
    {
     "data": {
      "application/javascript": [
       "parent.postMessage({\"jupyterEvent\": \"custom.exercise_interaction\", \"data\": {\"interactionType\": 2, \"questionType\": 1, \"questionId\": \"3.1_CardinalityA\", \"learnToolsVersion\": \"0.3.4\", \"valueTowardsCompletion\": 0.0, \"failureMessage\": \"\", \"exceptionClass\": \"\", \"trace\": \"\", \"outcomeType\": 4}}, \"*\")"
      ],
      "text/plain": [
       "<IPython.core.display.Javascript object>"
      ]
     },
     "metadata": {},
     "output_type": "display_data"
    },
    {
     "data": {
      "text/markdown": [
       "<span style=\"color:#3366cc\">Hint:</span> To one-hot encode a variable, we need one column for each unique entry."
      ],
      "text/plain": [
       "Hint: To one-hot encode a variable, we need one column for each unique entry."
      ]
     },
     "metadata": {},
     "output_type": "display_data"
    },
    {
     "data": {
      "application/javascript": [
       "parent.postMessage({\"jupyterEvent\": \"custom.exercise_interaction\", \"data\": {\"interactionType\": 3, \"questionType\": 1, \"questionId\": \"3.1_CardinalityA\", \"learnToolsVersion\": \"0.3.4\", \"valueTowardsCompletion\": 0.0, \"failureMessage\": \"\", \"exceptionClass\": \"\", \"trace\": \"\", \"outcomeType\": 4}}, \"*\")"
      ],
      "text/plain": [
       "<IPython.core.display.Javascript object>"
      ]
     },
     "metadata": {},
     "output_type": "display_data"
    },
    {
     "data": {
      "text/markdown": [
       "<span style=\"color:#33cc99\">Solution:</span> \n",
       "```python\n",
       "# How many categorical variables in the training data\n",
       "# have cardinality greater than 10?\n",
       "high_cardinality_numcols = 3\n",
       "\n",
       "# How many columns are needed to one-hot encode the\n",
       "# 'Neighborhood' variable in the training data?\n",
       "num_cols_neighborhood = 25\n",
       "\n",
       "```"
      ],
      "text/plain": [
       "Solution: \n",
       "```python\n",
       "# How many categorical variables in the training data\n",
       "# have cardinality greater than 10?\n",
       "high_cardinality_numcols = 3\n",
       "\n",
       "# How many columns are needed to one-hot encode the\n",
       "# 'Neighborhood' variable in the training data?\n",
       "num_cols_neighborhood = 25\n",
       "\n",
       "```"
      ]
     },
     "metadata": {},
     "output_type": "display_data"
    }
   ],
   "source": [
    "# Lines below will give you a hint or solution code\n",
    "step_3.a.hint()\n",
    "step_3.a.solution()"
   ]
  },
  {
   "cell_type": "markdown",
   "id": "7ac74077",
   "metadata": {
    "papermill": {
     "duration": 0.015373,
     "end_time": "2023-03-27T07:59:35.609279",
     "exception": false,
     "start_time": "2023-03-27T07:59:35.593906",
     "status": "completed"
    },
    "tags": []
   },
   "source": [
    "### Part B\n",
    "\n",
    "For large datasets with many rows, one-hot encoding can greatly expand the size of the dataset.  For this reason, we typically will only one-hot encode columns with relatively low cardinality.  Then, high cardinality columns can either be dropped from the dataset, or we can use ordinal encoding.\n",
    "\n",
    "As an example, consider a dataset with 10,000 rows, and containing one categorical column with 100 unique entries.  \n",
    "- If this column is replaced with the corresponding one-hot encoding, how many entries are added to the dataset?  \n",
    "- If we instead replace the column with the ordinal encoding, how many entries are added?  \n",
    "\n",
    "Use your answers to fill in the lines below."
   ]
  },
  {
   "cell_type": "code",
   "execution_count": 22,
   "id": "52403033",
   "metadata": {
    "execution": {
     "iopub.execute_input": "2023-03-27T07:59:35.644400Z",
     "iopub.status.busy": "2023-03-27T07:59:35.643973Z",
     "iopub.status.idle": "2023-03-27T07:59:35.653715Z",
     "shell.execute_reply": "2023-03-27T07:59:35.652517Z"
    },
    "papermill": {
     "duration": 0.029927,
     "end_time": "2023-03-27T07:59:35.656021",
     "exception": false,
     "start_time": "2023-03-27T07:59:35.626094",
     "status": "completed"
    },
    "tags": []
   },
   "outputs": [
    {
     "data": {
      "application/javascript": [
       "parent.postMessage({\"jupyterEvent\": \"custom.exercise_interaction\", \"data\": {\"outcomeType\": 1, \"valueTowardsCompletion\": 0.5, \"interactionType\": 1, \"questionType\": 1, \"questionId\": \"3.2_CardinalityB\", \"learnToolsVersion\": \"0.3.4\", \"failureMessage\": \"\", \"exceptionClass\": \"\", \"trace\": \"\"}}, \"*\")"
      ],
      "text/plain": [
       "<IPython.core.display.Javascript object>"
      ]
     },
     "metadata": {},
     "output_type": "display_data"
    },
    {
     "data": {
      "text/markdown": [
       "<span style=\"color:#33cc33\">Correct</span>"
      ],
      "text/plain": [
       "Correct"
      ]
     },
     "metadata": {},
     "output_type": "display_data"
    }
   ],
   "source": [
    "# Fill in the line below: How many entries are added to the dataset by \n",
    "# replacing the column with a one-hot encoding?\n",
    "OH_entries_added = 1e4*1e2 - 1e4\n",
    "\n",
    "# Fill in the line below: How many entries are added to the dataset by\n",
    "# replacing the column with an ordinal encoding?\n",
    "label_entries_added = 0\n",
    "\n",
    "# Check your answers\n",
    "step_3.b.check()"
   ]
  },
  {
   "cell_type": "code",
   "execution_count": 23,
   "id": "79906816",
   "metadata": {
    "execution": {
     "iopub.execute_input": "2023-03-27T07:59:35.690127Z",
     "iopub.status.busy": "2023-03-27T07:59:35.689680Z",
     "iopub.status.idle": "2023-03-27T07:59:35.696600Z",
     "shell.execute_reply": "2023-03-27T07:59:35.695442Z"
    },
    "papermill": {
     "duration": 0.026899,
     "end_time": "2023-03-27T07:59:35.698935",
     "exception": false,
     "start_time": "2023-03-27T07:59:35.672036",
     "status": "completed"
    },
    "tags": []
   },
   "outputs": [
    {
     "data": {
      "text/plain": [
       "1000.0"
      ]
     },
     "execution_count": 23,
     "metadata": {},
     "output_type": "execute_result"
    }
   ],
   "source": [
    "1e3"
   ]
  },
  {
   "cell_type": "code",
   "execution_count": 24,
   "id": "fde5b054",
   "metadata": {
    "execution": {
     "iopub.execute_input": "2023-03-27T07:59:35.733291Z",
     "iopub.status.busy": "2023-03-27T07:59:35.732868Z",
     "iopub.status.idle": "2023-03-27T07:59:35.746739Z",
     "shell.execute_reply": "2023-03-27T07:59:35.745555Z"
    },
    "papermill": {
     "duration": 0.034082,
     "end_time": "2023-03-27T07:59:35.749247",
     "exception": false,
     "start_time": "2023-03-27T07:59:35.715165",
     "status": "completed"
    },
    "tags": []
   },
   "outputs": [
    {
     "data": {
      "application/javascript": [
       "parent.postMessage({\"jupyterEvent\": \"custom.exercise_interaction\", \"data\": {\"interactionType\": 2, \"questionType\": 1, \"questionId\": \"3.2_CardinalityB\", \"learnToolsVersion\": \"0.3.4\", \"valueTowardsCompletion\": 0.0, \"failureMessage\": \"\", \"exceptionClass\": \"\", \"trace\": \"\", \"outcomeType\": 4}}, \"*\")"
      ],
      "text/plain": [
       "<IPython.core.display.Javascript object>"
      ]
     },
     "metadata": {},
     "output_type": "display_data"
    },
    {
     "data": {
      "text/markdown": [
       "<span style=\"color:#3366cc\">Hint:</span> To calculate how many entries are added to the dataset through the one-hot encoding, begin by calculating how many entries are needed to encode the categorical variable (by multiplying the number of rows by the number of columns in the one-hot encoding). Then, to obtain how many entries are **added** to the dataset, subtract the number of entries in the original column."
      ],
      "text/plain": [
       "Hint: To calculate how many entries are added to the dataset through the one-hot encoding, begin by calculating how many entries are needed to encode the categorical variable (by multiplying the number of rows by the number of columns in the one-hot encoding). Then, to obtain how many entries are **added** to the dataset, subtract the number of entries in the original column."
      ]
     },
     "metadata": {},
     "output_type": "display_data"
    },
    {
     "data": {
      "application/javascript": [
       "parent.postMessage({\"jupyterEvent\": \"custom.exercise_interaction\", \"data\": {\"interactionType\": 3, \"questionType\": 1, \"questionId\": \"3.2_CardinalityB\", \"learnToolsVersion\": \"0.3.4\", \"valueTowardsCompletion\": 0.0, \"failureMessage\": \"\", \"exceptionClass\": \"\", \"trace\": \"\", \"outcomeType\": 4}}, \"*\")"
      ],
      "text/plain": [
       "<IPython.core.display.Javascript object>"
      ]
     },
     "metadata": {},
     "output_type": "display_data"
    },
    {
     "data": {
      "text/markdown": [
       "<span style=\"color:#33cc99\">Solution:</span> \n",
       "```python\n",
       "# How many entries are added to the dataset by\n",
       "# replacing the column with a one-hot encoding?\n",
       "OH_entries_added = 1e4*100 - 1e4\n",
       "\n",
       "# How many entries are added to the dataset by\n",
       "# replacing the column with an ordinal encoding?\n",
       "label_entries_added = 0\n",
       "\n",
       "```"
      ],
      "text/plain": [
       "Solution: \n",
       "```python\n",
       "# How many entries are added to the dataset by\n",
       "# replacing the column with a one-hot encoding?\n",
       "OH_entries_added = 1e4*100 - 1e4\n",
       "\n",
       "# How many entries are added to the dataset by\n",
       "# replacing the column with an ordinal encoding?\n",
       "label_entries_added = 0\n",
       "\n",
       "```"
      ]
     },
     "metadata": {},
     "output_type": "display_data"
    }
   ],
   "source": [
    "# Lines below will give you a hint or solution code\n",
    "step_3.b.hint()\n",
    "step_3.b.solution()"
   ]
  },
  {
   "cell_type": "markdown",
   "id": "21c7d9ad",
   "metadata": {
    "papermill": {
     "duration": 0.016256,
     "end_time": "2023-03-27T07:59:35.781946",
     "exception": false,
     "start_time": "2023-03-27T07:59:35.765690",
     "status": "completed"
    },
    "tags": []
   },
   "source": [
    "Next, you'll experiment with one-hot encoding.  But, instead of encoding all of the categorical variables in the dataset, you'll only create a one-hot encoding for columns with cardinality less than 10.\n",
    "\n",
    "Run the code cell below without changes to set `low_cardinality_cols` to a Python list containing the columns that will be one-hot encoded.  Likewise, `high_cardinality_cols` contains a list of categorical columns that will be dropped from the dataset."
   ]
  },
  {
   "cell_type": "code",
   "execution_count": 25,
   "id": "e0e13c7d",
   "metadata": {
    "execution": {
     "iopub.execute_input": "2023-03-27T07:59:35.816870Z",
     "iopub.status.busy": "2023-03-27T07:59:35.816407Z",
     "iopub.status.idle": "2023-03-27T07:59:35.829507Z",
     "shell.execute_reply": "2023-03-27T07:59:35.828073Z"
    },
    "papermill": {
     "duration": 0.0337,
     "end_time": "2023-03-27T07:59:35.832142",
     "exception": false,
     "start_time": "2023-03-27T07:59:35.798442",
     "status": "completed"
    },
    "tags": []
   },
   "outputs": [
    {
     "name": "stdout",
     "output_type": "stream",
     "text": [
      "Categorical columns that will be one-hot encoded: ['MSZoning', 'Street', 'LotShape', 'LandContour', 'Utilities', 'LotConfig', 'LandSlope', 'Condition1', 'Condition2', 'BldgType', 'HouseStyle', 'RoofStyle', 'RoofMatl', 'ExterQual', 'ExterCond', 'Foundation', 'Heating', 'HeatingQC', 'CentralAir', 'KitchenQual', 'Functional', 'PavedDrive', 'SaleType', 'SaleCondition']\n",
      "\n",
      "Categorical columns that will be dropped from the dataset: ['Exterior1st', 'Neighborhood', 'Exterior2nd']\n"
     ]
    }
   ],
   "source": [
    "# Columns that will be one-hot encoded\n",
    "low_cardinality_cols = [col for col in object_cols if X_train[col].nunique() < 10]\n",
    "\n",
    "# Columns that will be dropped from the dataset\n",
    "high_cardinality_cols = list(set(object_cols)-set(low_cardinality_cols))\n",
    "\n",
    "print('Categorical columns that will be one-hot encoded:', low_cardinality_cols)\n",
    "print('\\nCategorical columns that will be dropped from the dataset:', high_cardinality_cols)"
   ]
  },
  {
   "cell_type": "markdown",
   "id": "b552b6e0",
   "metadata": {
    "papermill": {
     "duration": 0.016301,
     "end_time": "2023-03-27T07:59:35.865349",
     "exception": false,
     "start_time": "2023-03-27T07:59:35.849048",
     "status": "completed"
    },
    "tags": []
   },
   "source": [
    "# Step 4: One-hot encoding\n",
    "\n",
    "Use the next code cell to one-hot encode the data in `X_train` and `X_valid`.  Set the preprocessed DataFrames to `OH_X_train` and `OH_X_valid`, respectively.  \n",
    "- The full list of categorical columns in the dataset can be found in the Python list `object_cols`.\n",
    "- You should only one-hot encode the categorical columns in `low_cardinality_cols`.  All other categorical columns should be dropped from the dataset. "
   ]
  },
  {
   "cell_type": "code",
   "execution_count": 26,
   "id": "52a24430",
   "metadata": {
    "execution": {
     "iopub.execute_input": "2023-03-27T07:59:35.900881Z",
     "iopub.status.busy": "2023-03-27T07:59:35.900399Z",
     "iopub.status.idle": "2023-03-27T07:59:35.942843Z",
     "shell.execute_reply": "2023-03-27T07:59:35.941549Z"
    },
    "papermill": {
     "duration": 0.063369,
     "end_time": "2023-03-27T07:59:35.945557",
     "exception": false,
     "start_time": "2023-03-27T07:59:35.882188",
     "status": "completed"
    },
    "tags": []
   },
   "outputs": [
    {
     "data": {
      "application/javascript": [
       "parent.postMessage({\"jupyterEvent\": \"custom.exercise_interaction\", \"data\": {\"outcomeType\": 1, \"valueTowardsCompletion\": 0.5, \"interactionType\": 1, \"questionType\": 2, \"questionId\": \"4_OneHot\", \"learnToolsVersion\": \"0.3.4\", \"failureMessage\": \"\", \"exceptionClass\": \"\", \"trace\": \"\"}}, \"*\")"
      ],
      "text/plain": [
       "<IPython.core.display.Javascript object>"
      ]
     },
     "metadata": {},
     "output_type": "display_data"
    },
    {
     "data": {
      "text/markdown": [
       "<span style=\"color:#33cc33\">Correct</span>"
      ],
      "text/plain": [
       "Correct"
      ]
     },
     "metadata": {},
     "output_type": "display_data"
    }
   ],
   "source": [
    "from sklearn.preprocessing import OneHotEncoder\n",
    "\n",
    "# Apply one-hot encoder to each column with categorical data\n",
    "OH_encoder = OneHotEncoder(handle_unknown='ignore', sparse=False)\n",
    "OH_cols_train = pd.DataFrame(OH_encoder.fit_transform(X_train[low_cardinality_cols]))\n",
    "OH_cols_valid = pd.DataFrame(OH_encoder.transform(X_valid[low_cardinality_cols]))\n",
    "\n",
    "# One-hot encoding removed index; put it back\n",
    "OH_cols_train.index = X_train.index\n",
    "OH_cols_valid.index = X_valid.index\n",
    "\n",
    "# Remove categorical columns (will replace with one-hot encoding)\n",
    "num_X_train = X_train.drop(object_cols, axis=1)\n",
    "num_X_valid = X_valid.drop(object_cols, axis=1)\n",
    "\n",
    "# Add one-hot encoded columns to numerical features\n",
    "OH_X_train = pd.concat([num_X_train, OH_cols_train], axis=1)\n",
    "OH_X_valid = pd.concat([num_X_valid, OH_cols_valid], axis=1)\n",
    "\n",
    "# Check your answer\n",
    "step_4.check()"
   ]
  },
  {
   "cell_type": "code",
   "execution_count": 27,
   "id": "dcc60b06",
   "metadata": {
    "execution": {
     "iopub.execute_input": "2023-03-27T07:59:35.982109Z",
     "iopub.status.busy": "2023-03-27T07:59:35.981653Z",
     "iopub.status.idle": "2023-03-27T07:59:35.996329Z",
     "shell.execute_reply": "2023-03-27T07:59:35.995105Z"
    },
    "papermill": {
     "duration": 0.035471,
     "end_time": "2023-03-27T07:59:35.998508",
     "exception": false,
     "start_time": "2023-03-27T07:59:35.963037",
     "status": "completed"
    },
    "tags": []
   },
   "outputs": [
    {
     "data": {
      "application/javascript": [
       "parent.postMessage({\"jupyterEvent\": \"custom.exercise_interaction\", \"data\": {\"interactionType\": 2, \"questionType\": 2, \"questionId\": \"4_OneHot\", \"learnToolsVersion\": \"0.3.4\", \"valueTowardsCompletion\": 0.0, \"failureMessage\": \"\", \"exceptionClass\": \"\", \"trace\": \"\", \"outcomeType\": 4}}, \"*\")"
      ],
      "text/plain": [
       "<IPython.core.display.Javascript object>"
      ]
     },
     "metadata": {},
     "output_type": "display_data"
    },
    {
     "data": {
      "text/markdown": [
       "<span style=\"color:#3366cc\">Hint:</span> Begin by applying the one-hot encoder to the low cardinality columns in the training and validation data in `X_train[low_cardinality_cols]` and `X_valid[low_cardinality_cols]`, respectively."
      ],
      "text/plain": [
       "Hint: Begin by applying the one-hot encoder to the low cardinality columns in the training and validation data in `X_train[low_cardinality_cols]` and `X_valid[low_cardinality_cols]`, respectively."
      ]
     },
     "metadata": {},
     "output_type": "display_data"
    },
    {
     "data": {
      "application/javascript": [
       "parent.postMessage({\"jupyterEvent\": \"custom.exercise_interaction\", \"data\": {\"interactionType\": 3, \"questionType\": 2, \"questionId\": \"4_OneHot\", \"learnToolsVersion\": \"0.3.4\", \"valueTowardsCompletion\": 0.0, \"failureMessage\": \"\", \"exceptionClass\": \"\", \"trace\": \"\", \"outcomeType\": 4}}, \"*\")"
      ],
      "text/plain": [
       "<IPython.core.display.Javascript object>"
      ]
     },
     "metadata": {},
     "output_type": "display_data"
    },
    {
     "data": {
      "text/markdown": [
       "<span style=\"color:#33cc99\">Solution:</span> \n",
       "```python\n",
       "# Apply one-hot encoder to each column with categorical data\n",
       "OH_encoder = OneHotEncoder(handle_unknown='ignore', sparse=False)\n",
       "OH_cols_train = pd.DataFrame(OH_encoder.fit_transform(X_train[low_cardinality_cols]))\n",
       "OH_cols_valid = pd.DataFrame(OH_encoder.transform(X_valid[low_cardinality_cols]))\n",
       "\n",
       "# One-hot encoding removed index; put it back\n",
       "OH_cols_train.index = X_train.index\n",
       "OH_cols_valid.index = X_valid.index\n",
       "\n",
       "# Remove categorical columns (will replace with one-hot encoding)\n",
       "num_X_train = X_train.drop(object_cols, axis=1)\n",
       "num_X_valid = X_valid.drop(object_cols, axis=1)\n",
       "\n",
       "# Add one-hot encoded columns to numerical features\n",
       "OH_X_train = pd.concat([num_X_train, OH_cols_train], axis=1)\n",
       "OH_X_valid = pd.concat([num_X_valid, OH_cols_valid], axis=1)\n",
       "\n",
       "\n",
       "```"
      ],
      "text/plain": [
       "Solution: \n",
       "```python\n",
       "# Apply one-hot encoder to each column with categorical data\n",
       "OH_encoder = OneHotEncoder(handle_unknown='ignore', sparse=False)\n",
       "OH_cols_train = pd.DataFrame(OH_encoder.fit_transform(X_train[low_cardinality_cols]))\n",
       "OH_cols_valid = pd.DataFrame(OH_encoder.transform(X_valid[low_cardinality_cols]))\n",
       "\n",
       "# One-hot encoding removed index; put it back\n",
       "OH_cols_train.index = X_train.index\n",
       "OH_cols_valid.index = X_valid.index\n",
       "\n",
       "# Remove categorical columns (will replace with one-hot encoding)\n",
       "num_X_train = X_train.drop(object_cols, axis=1)\n",
       "num_X_valid = X_valid.drop(object_cols, axis=1)\n",
       "\n",
       "# Add one-hot encoded columns to numerical features\n",
       "OH_X_train = pd.concat([num_X_train, OH_cols_train], axis=1)\n",
       "OH_X_valid = pd.concat([num_X_valid, OH_cols_valid], axis=1)\n",
       "\n",
       "\n",
       "```"
      ]
     },
     "metadata": {},
     "output_type": "display_data"
    }
   ],
   "source": [
    "# Lines below will give you a hint or solution code\n",
    "step_4.hint()\n",
    "step_4.solution()"
   ]
  },
  {
   "cell_type": "markdown",
   "id": "47043fee",
   "metadata": {
    "papermill": {
     "duration": 0.018061,
     "end_time": "2023-03-27T07:59:36.036230",
     "exception": false,
     "start_time": "2023-03-27T07:59:36.018169",
     "status": "completed"
    },
    "tags": []
   },
   "source": [
    "Run the next code cell to get the MAE for this approach."
   ]
  },
  {
   "cell_type": "code",
   "execution_count": 28,
   "id": "dd40a8e8",
   "metadata": {
    "execution": {
     "iopub.execute_input": "2023-03-27T07:59:36.073702Z",
     "iopub.status.busy": "2023-03-27T07:59:36.072584Z",
     "iopub.status.idle": "2023-03-27T07:59:39.558514Z",
     "shell.execute_reply": "2023-03-27T07:59:39.557006Z"
    },
    "papermill": {
     "duration": 3.507402,
     "end_time": "2023-03-27T07:59:39.561237",
     "exception": false,
     "start_time": "2023-03-27T07:59:36.053835",
     "status": "completed"
    },
    "tags": []
   },
   "outputs": [
    {
     "name": "stdout",
     "output_type": "stream",
     "text": [
      "MAE from Approach 3 (One-Hot Encoding):\n"
     ]
    },
    {
     "name": "stderr",
     "output_type": "stream",
     "text": [
      "/opt/conda/lib/python3.7/site-packages/sklearn/utils/validation.py:1692: FutureWarning: Feature names only support names that are all strings. Got feature names with dtypes: ['int', 'str']. An error will be raised in 1.2.\n",
      "  FutureWarning,\n"
     ]
    },
    {
     "name": "stdout",
     "output_type": "stream",
     "text": [
      "17221.171136745976\n"
     ]
    },
    {
     "name": "stderr",
     "output_type": "stream",
     "text": [
      "/opt/conda/lib/python3.7/site-packages/sklearn/utils/validation.py:1692: FutureWarning: Feature names only support names that are all strings. Got feature names with dtypes: ['int', 'str']. An error will be raised in 1.2.\n",
      "  FutureWarning,\n"
     ]
    }
   ],
   "source": [
    "print(\"MAE from Approach 3 (One-Hot Encoding):\") \n",
    "print(score_dataset(OH_X_train, OH_X_valid, y_train, y_valid))"
   ]
  },
  {
   "cell_type": "markdown",
   "id": "ff087324",
   "metadata": {
    "papermill": {
     "duration": 0.017698,
     "end_time": "2023-03-27T07:59:39.596830",
     "exception": false,
     "start_time": "2023-03-27T07:59:39.579132",
     "status": "completed"
    },
    "tags": []
   },
   "source": [
    "# Generate test predictions and submit your results\n",
    "\n",
    "After you complete Step 4, if you'd like to use what you've learned to submit your results to the leaderboard, you'll need to preprocess the test data before generating predictions.\n",
    "\n",
    "**This step is completely optional, and you do not need to submit results to the leaderboard to successfully complete the exercise.**\n",
    "\n",
    "Check out the previous exercise if you need help with remembering how to [join the competition](https://www.kaggle.com/c/home-data-for-ml-course) or save your results to CSV.  Once you have generated a file with your results, follow the instructions below:\n",
    "1. Begin by clicking on the **Save Version** button in the top right corner of the window.  This will generate a pop-up window.  \n",
    "2. Ensure that the **Save and Run All** option is selected, and then click on the **Save** button.\n",
    "3. This generates a window in the bottom left corner of the notebook.  After it has finished running, click on the number to the right of the **Save Version** button.  This pulls up a list of versions on the right of the screen.  Click on the ellipsis **(...)** to the right of the most recent version, and select **Open in Viewer**.  This brings you into view mode of the same page. You will need to scroll down to get back to these instructions.\n",
    "4. Click on the **Output** tab on the right of the screen.  Then, click on the file you would like to submit, and click on the **Submit** button to submit your results to the leaderboard.\n",
    "\n",
    "You have now successfully submitted to the competition!\n",
    "\n",
    "If you want to keep working to improve your performance, select the **Edit** button in the top right of the screen. Then you can change your code and repeat the process. There's a lot of room to improve, and you will climb up the leaderboard as you work.\n"
   ]
  },
  {
   "cell_type": "code",
   "execution_count": 29,
   "id": "81645ee0",
   "metadata": {
    "execution": {
     "iopub.execute_input": "2023-03-27T07:59:39.637928Z",
     "iopub.status.busy": "2023-03-27T07:59:39.636672Z",
     "iopub.status.idle": "2023-03-27T07:59:39.641786Z",
     "shell.execute_reply": "2023-03-27T07:59:39.640798Z"
    },
    "papermill": {
     "duration": 0.027737,
     "end_time": "2023-03-27T07:59:39.644302",
     "exception": false,
     "start_time": "2023-03-27T07:59:39.616565",
     "status": "completed"
    },
    "tags": []
   },
   "outputs": [],
   "source": [
    "# (Optional) Your code here"
   ]
  },
  {
   "cell_type": "code",
   "execution_count": 30,
   "id": "0fd88c0b",
   "metadata": {
    "execution": {
     "iopub.execute_input": "2023-03-27T07:59:39.682565Z",
     "iopub.status.busy": "2023-03-27T07:59:39.681672Z",
     "iopub.status.idle": "2023-03-27T07:59:39.701860Z",
     "shell.execute_reply": "2023-03-27T07:59:39.699817Z"
    },
    "papermill": {
     "duration": 0.042733,
     "end_time": "2023-03-27T07:59:39.704792",
     "exception": false,
     "start_time": "2023-03-27T07:59:39.662059",
     "status": "completed"
    },
    "tags": []
   },
   "outputs": [
    {
     "name": "stdout",
     "output_type": "stream",
     "text": [
      "Categorical columns that will be ordinal encoded: ['Street', 'LotShape', 'LandContour', 'LotConfig', 'LandSlope', 'Neighborhood', 'Condition1', 'Condition2', 'BldgType', 'HouseStyle', 'RoofStyle', 'RoofMatl', 'ExterQual', 'ExterCond', 'Foundation', 'Heating', 'HeatingQC', 'CentralAir', 'PavedDrive', 'SaleCondition']\n",
      "\n",
      "Categorical columns that will be dropped from the dataset: ['KitchenQual', 'Exterior2nd', 'Exterior1st', 'Functional', 'SaleType', 'Utilities', 'MSZoning']\n"
     ]
    }
   ],
   "source": [
    "# Categorical columns in the test data\n",
    "object_cols_X_test = [col for col in X_test.columns if X_test[col].dtype == \"object\"]\n",
    "\n",
    "# Columns that can be safely ordinal encoded\n",
    "good_label_colsX_test = [col for col in object_cols_X_test if \n",
    "                   set(X_test[col]).issubset(set(X_train[col]))]\n",
    "        \n",
    "# Problematic columns that will be dropped from the dataset\n",
    "bad_label_colsX_test = list(set(object_cols_X_test)-set(good_label_colsX_test))\n",
    "        \n",
    "print('Categorical columns that will be ordinal encoded:', good_label_colsX_test)\n",
    "print('\\nCategorical columns that will be dropped from the dataset:', bad_label_colsX_test)"
   ]
  },
  {
   "cell_type": "code",
   "execution_count": 31,
   "id": "387723ad",
   "metadata": {
    "execution": {
     "iopub.execute_input": "2023-03-27T07:59:39.744244Z",
     "iopub.status.busy": "2023-03-27T07:59:39.742927Z",
     "iopub.status.idle": "2023-03-27T07:59:39.788615Z",
     "shell.execute_reply": "2023-03-27T07:59:39.787542Z"
    },
    "papermill": {
     "duration": 0.068137,
     "end_time": "2023-03-27T07:59:39.791430",
     "exception": false,
     "start_time": "2023-03-27T07:59:39.723293",
     "status": "completed"
    },
    "tags": []
   },
   "outputs": [],
   "source": [
    "xordinal_encoder = OrdinalEncoder()\n",
    "\n",
    "label_X_train = X_train.drop(bad_label_colsX_test, axis=1)\n",
    "label_X_train[good_label_colsX_test] = xordinal_encoder.fit_transform(X_train[good_label_colsX_test])\n",
    "\n",
    "label_X_test = X_test.drop(bad_label_colsX_test, axis=1)\n",
    "label_X_test[good_label_colsX_test] = xordinal_encoder.transform(X_test[good_label_colsX_test]) "
   ]
  },
  {
   "cell_type": "code",
   "execution_count": 32,
   "id": "95d2d61c",
   "metadata": {
    "execution": {
     "iopub.execute_input": "2023-03-27T07:59:39.830067Z",
     "iopub.status.busy": "2023-03-27T07:59:39.829310Z",
     "iopub.status.idle": "2023-03-27T07:59:39.840933Z",
     "shell.execute_reply": "2023-03-27T07:59:39.839640Z"
    },
    "papermill": {
     "duration": 0.034138,
     "end_time": "2023-03-27T07:59:39.843739",
     "exception": false,
     "start_time": "2023-03-27T07:59:39.809601",
     "status": "completed"
    },
    "tags": []
   },
   "outputs": [
    {
     "data": {
      "text/plain": [
       "10"
      ]
     },
     "execution_count": 32,
     "metadata": {},
     "output_type": "execute_result"
    }
   ],
   "source": [
    "label_X_test.isnull().sum().sum()"
   ]
  },
  {
   "cell_type": "code",
   "execution_count": 33,
   "id": "0964a4bd",
   "metadata": {
    "execution": {
     "iopub.execute_input": "2023-03-27T07:59:39.882674Z",
     "iopub.status.busy": "2023-03-27T07:59:39.881890Z",
     "iopub.status.idle": "2023-03-27T07:59:39.888219Z",
     "shell.execute_reply": "2023-03-27T07:59:39.886952Z"
    },
    "papermill": {
     "duration": 0.028795,
     "end_time": "2023-03-27T07:59:39.891006",
     "exception": false,
     "start_time": "2023-03-27T07:59:39.862211",
     "status": "completed"
    },
    "tags": []
   },
   "outputs": [],
   "source": [
    "label_X_test = label_X_test.fillna(0)"
   ]
  },
  {
   "cell_type": "code",
   "execution_count": 34,
   "id": "e83c4f9f",
   "metadata": {
    "execution": {
     "iopub.execute_input": "2023-03-27T07:59:39.929297Z",
     "iopub.status.busy": "2023-03-27T07:59:39.928829Z",
     "iopub.status.idle": "2023-03-27T07:59:39.938943Z",
     "shell.execute_reply": "2023-03-27T07:59:39.937923Z"
    },
    "papermill": {
     "duration": 0.031943,
     "end_time": "2023-03-27T07:59:39.941463",
     "exception": false,
     "start_time": "2023-03-27T07:59:39.909520",
     "status": "completed"
    },
    "tags": []
   },
   "outputs": [
    {
     "data": {
      "text/plain": [
       "0"
      ]
     },
     "execution_count": 34,
     "metadata": {},
     "output_type": "execute_result"
    }
   ],
   "source": [
    "label_X_test.isnull().sum().sum()"
   ]
  },
  {
   "cell_type": "code",
   "execution_count": 35,
   "id": "fe9f5ba3",
   "metadata": {
    "execution": {
     "iopub.execute_input": "2023-03-27T07:59:39.979568Z",
     "iopub.status.busy": "2023-03-27T07:59:39.978950Z",
     "iopub.status.idle": "2023-03-27T07:59:42.537984Z",
     "shell.execute_reply": "2023-03-27T07:59:42.536594Z"
    },
    "papermill": {
     "duration": 2.581214,
     "end_time": "2023-03-27T07:59:42.540602",
     "exception": false,
     "start_time": "2023-03-27T07:59:39.959388",
     "status": "completed"
    },
    "tags": []
   },
   "outputs": [
    {
     "data": {
      "text/plain": [
       "RandomForestRegressor(n_estimators=190, random_state=0)"
      ]
     },
     "execution_count": 35,
     "metadata": {},
     "output_type": "execute_result"
    }
   ],
   "source": [
    "# model\n",
    "modelx = RandomForestRegressor(n_estimators=190, criterion = 'squared_error', random_state=0)\n",
    "modelx.fit(label_X_train, y_train)"
   ]
  },
  {
   "cell_type": "code",
   "execution_count": 36,
   "id": "bdb627d2",
   "metadata": {
    "execution": {
     "iopub.execute_input": "2023-03-27T07:59:42.578606Z",
     "iopub.status.busy": "2023-03-27T07:59:42.578204Z",
     "iopub.status.idle": "2023-03-27T07:59:42.652622Z",
     "shell.execute_reply": "2023-03-27T07:59:42.651240Z"
    },
    "papermill": {
     "duration": 0.0971,
     "end_time": "2023-03-27T07:59:42.655856",
     "exception": false,
     "start_time": "2023-03-27T07:59:42.558756",
     "status": "completed"
    },
    "tags": []
   },
   "outputs": [],
   "source": [
    "# predict\n",
    "preds_test = modelx.predict(label_X_test)"
   ]
  },
  {
   "cell_type": "code",
   "execution_count": 37,
   "id": "527a3c8e",
   "metadata": {
    "execution": {
     "iopub.execute_input": "2023-03-27T07:59:42.695752Z",
     "iopub.status.busy": "2023-03-27T07:59:42.695333Z",
     "iopub.status.idle": "2023-03-27T07:59:42.709434Z",
     "shell.execute_reply": "2023-03-27T07:59:42.708368Z"
    },
    "papermill": {
     "duration": 0.037626,
     "end_time": "2023-03-27T07:59:42.712227",
     "exception": false,
     "start_time": "2023-03-27T07:59:42.674601",
     "status": "completed"
    },
    "tags": []
   },
   "outputs": [],
   "source": [
    "# Save test predictions to file\n",
    "output = pd.DataFrame({'Id': X_test.index,\n",
    "                       'SalePrice': preds_test})\n",
    "output.to_csv('submission.csv', index=False)"
   ]
  },
  {
   "cell_type": "markdown",
   "id": "4ebb70fb",
   "metadata": {
    "papermill": {
     "duration": 0.017685,
     "end_time": "2023-03-27T07:59:42.748527",
     "exception": false,
     "start_time": "2023-03-27T07:59:42.730842",
     "status": "completed"
    },
    "tags": []
   },
   "source": [
    "# Keep going\n",
    "\n",
    "With missing value handling and categorical encoding, your modeling process is getting complex. This complexity gets worse when you want to save your model to use in the future. The key to managing this complexity is something called **pipelines**. \n",
    "\n",
    "**[Learn to use pipelines](https://www.kaggle.com/alexisbcook/pipelines)** to preprocess datasets with categorical variables, missing values and any other messiness your data throws at you."
   ]
  },
  {
   "cell_type": "markdown",
   "id": "d0cd3841",
   "metadata": {
    "papermill": {
     "duration": 0.0176,
     "end_time": "2023-03-27T07:59:42.784004",
     "exception": false,
     "start_time": "2023-03-27T07:59:42.766404",
     "status": "completed"
    },
    "tags": []
   },
   "source": [
    "---\n",
    "\n",
    "\n",
    "\n",
    "\n",
    "*Have questions or comments? Visit the [course discussion forum](https://www.kaggle.com/learn/intermediate-machine-learning/discussion) to chat with other learners.*"
   ]
  }
 ],
 "metadata": {
  "kernelspec": {
   "display_name": "Python 3",
   "language": "python",
   "name": "python3"
  },
  "language_info": {
   "codemirror_mode": {
    "name": "ipython",
    "version": 3
   },
   "file_extension": ".py",
   "mimetype": "text/x-python",
   "name": "python",
   "nbconvert_exporter": "python",
   "pygments_lexer": "ipython3",
   "version": "3.7.12"
  },
  "papermill": {
   "default_parameters": {},
   "duration": 26.285692,
   "end_time": "2023-03-27T07:59:43.626565",
   "environment_variables": {},
   "exception": null,
   "input_path": "__notebook__.ipynb",
   "output_path": "__notebook__.ipynb",
   "parameters": {},
   "start_time": "2023-03-27T07:59:17.340873",
   "version": "2.4.0"
  }
 },
 "nbformat": 4,
 "nbformat_minor": 5
}
